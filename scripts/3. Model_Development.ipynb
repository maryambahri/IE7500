{
  "cells": [
    {
      "cell_type": "markdown",
      "id": "10d67c03-2ae7-41f6-81d0-56fe632ece80",
      "metadata": {
        "id": "10d67c03-2ae7-41f6-81d0-56fe632ece80"
      },
      "source": [
        "<div style=\"background-color:#e6f2ff; border-left:8px solid #0059b3; padding:20px; margin:20px 0;\">\n",
        "  <h2 style=\"color:#003366;\"><strong>3. Model Development</strong></h2>\n",
        "  <p style=\"color:#333333;\">Model Selection and Preliminary Performance Testing</p>\n",
        "</div>"
      ]
    },
    {
      "cell_type": "markdown",
      "id": "bOElrufQWr4t",
      "metadata": {
        "id": "bOElrufQWr4t"
      },
      "source": [
        "The selection of TF-IDF + Logistic Regression, LSTM, and BERT for sentiment analysis of tweets is grounded in both established research and best practices in natural language processing. TF-IDF combined with Logistic Regression provides a strong and interpretable baseline, particularly effective for sparse and high-dimensional text data like tweets (Ramos, 2003; Wang & Manning, 2012). It has been widely used in sentiment analysis tasks due to its simplicity and effectiveness in capturing word importance without sequence modeling. LSTM (Long Short-Term Memory) networks, introduced by Hochreiter & Schmidhuber (1997), are well-suited for handling the sequential nature of text and capturing long-term dependencies, which enhances performance on informal and context-sensitive content such as tweets (Zhou et al., 2016). BERT (Bidirectional Encoder Representations from Transformers) by Devlin et al. (2019) represents the state-of-the-art in many NLP tasks, including sentiment analysis, due to its deep contextual understanding and bidirectional attention mechanism, making it particularly effective for nuanced sentiment interpretation in short texts. This multi-model evaluation approach allows us to compare performance across lexical, sequential, and contextual modeling strategies. Only after testing all three will we select the best-performing model based on predefined evaluation metrics, followed by full-scale training and final evaluation, as recommended in model selection best practices (Sammut & Webb, 2017; Zhang et al., 2021). This ensures robustness, fairness, and optimal utilization of resources.\n",
        "\n",
        "**References:**\n",
        "\n",
        "* Ramos, J. (2003). Using TF-IDF to determine word relevance in document queries.\n",
        "* Wang, S., & Manning, C. D. (2012). Baselines and Bigrams: Simple, Good Sentiment and Topic Classification.\n",
        "* Hochreiter, S., & Schmidhuber, J. (1997). Long short-term memory. Neural Computation.\n",
        "* Zhou, P., et al. (2016). Attention-Based Bidirectional LSTM Networks for Relation Classification.\n",
        "* Devlin, J., et al. (2019). BERT: Pre-training of Deep Bidirectional Transformers for Language Understanding.\n",
        "* Sammut, C., & Webb, G. I. (2017). Encyclopedia of Machine Learning and Data Mining.\n",
        "* Zhang, Y., et al. (2021). A Comprehensive Review on Deep Learning for Text Classification.\n"
      ]
    },
    {
      "cell_type": "markdown",
      "id": "5ad9fdb6-b723-469c-a345-f2bbed6055a6",
      "metadata": {
        "id": "5ad9fdb6-b723-469c-a345-f2bbed6055a6"
      },
      "source": [
        "## Model Development\n",
        "\n",
        "Following thorough exploratory data analysis and data preprocessing, we now move into the model development phase. The objective is to evaluate different machine learning and deep learning architectures to classify tweet sentiment effectively using the Sentiment140 dataset.\n",
        "\n",
        "Given the informal and brief nature of tweets, sentiment classification presents unique challenges: sparse context, slang, emojis, abbreviations, and inconsistent punctuation. To address these, we explore a spectrum of model complexities — from classical linear models to deep language models — to assess their performance, interpretability, and scalability.\n",
        "\n",
        "The following models will be implemented and compared:\n",
        "\n",
        "- **TF-IDF + Logistic Regression**: A classical baseline that leverages term frequency and inverse document frequency to convert text into numeric features before applying a simple, interpretable classifier.\n",
        "- **Bidirectional LSTM**: A recurrent neural network capable of capturing long-term dependencies and understanding contextual flow in short, noisy texts.\n",
        "- **DistilBERT**: A distilled transformer model pretrained on large corpora, providing state-of-the-art performance in many NLP tasks, including sentiment analysis.\n",
        "\n",
        "Each model will be trained using the preprocessed dataset, and evaluated on the validation and test sets. Evaluation metrics include:\n",
        "\n",
        "- **Accuracy**  \n",
        "- **Precision, Recall, F1-Score**  \n",
        "- **Confusion Matrix**  \n",
        "- **Training time and resource cost**\n",
        "\n",
        "This multi-model comparison aims to answer:\n",
        "\n",
        "- Which model best captures sentiment from tweets?\n",
        "- What are the trade-offs between speed, complexity, and accuracy?\n",
        "- Which model generalizes best to unseen real-world tweet data?\n",
        "\n",
        "The results will guide practical model selection for sentiment-sensitive applications in finance, customer experience monitoring, and public policy analysis.\n"
      ]
    },
    {
      "cell_type": "code",
      "execution_count": null,
      "id": "iYXzu-fYlmTw",
      "metadata": {
        "id": "iYXzu-fYlmTw"
      },
      "outputs": [],
      "source": [
        "# importing all libraries here\n",
        "\n",
        "import pandas as pd\n",
        "import seaborn as sns\n",
        "import matplotlib.pyplot as plt\n",
        "from sklearn.model_selection import train_test_split\n",
        "from sklearn.feature_extraction.text import TfidfVectorizer\n",
        "from sklearn.linear_model import LogisticRegression\n",
        "from sklearn.metrics import accuracy_score, precision_score, recall_score, f1_score, confusion_matrix, roc_curve, auc\n",
        "import gdown\n",
        "import os\n",
        "from tensorflow.keras.callbacks import ReduceLROnPlateau\n",
        "import zipfile\n",
        "import requests\n",
        "import io"
      ]
    },
    {
      "cell_type": "code",
      "execution_count": null,
      "id": "2bd848f3-e91b-4f76-b584-335cb114ad1f",
      "metadata": {
        "id": "2bd848f3-e91b-4f76-b584-335cb114ad1f",
        "outputId": "b2b032a4-eb14-4f40-c10c-954114786e88"
      },
      "outputs": [
        {
          "name": "stdout",
          "output_type": "stream",
          "text": [
            "ZIP contents: ['train_dataset.csv']\n",
            "Loaded train_dataset.csv with shape: (936194, 3)\n"
          ]
        }
      ],
      "source": [
        "# Here, we begin by loading the processed dataset\n",
        "\n",
        "# Step 1: Set the correct local path\n",
        "zip_path = \"train_dataset_comp.zip\"\n",
        "\n",
        "# Step 2: Extract only 'train_dataset.csv'\n",
        "with zipfile.ZipFile(zip_path, 'r') as zip_ref:\n",
        "    # Check contents (optional debug)\n",
        "    print(\"ZIP contents:\", zip_ref.namelist())\n",
        "\n",
        "    # Extract only train dataset\n",
        "    zip_ref.extract(\"train_dataset.csv\")\n",
        "\n",
        "# Step 3: Load the extracted CSV\n",
        "train_df = pd.read_csv(\"train_dataset.csv\")\n",
        "print(f\"Loaded train_dataset.csv with shape: {train_df.shape}\")\n"
      ]
    },
    {
      "cell_type": "code",
      "execution_count": null,
      "id": "6e060696-733c-42a0-a2a5-99df83302694",
      "metadata": {
        "id": "6e060696-733c-42a0-a2a5-99df83302694",
        "outputId": "bfd88515-5d2d-4e29-ad02-7aac9e9ca335"
      },
      "outputs": [
        {
          "name": "stdout",
          "output_type": "stream",
          "text": [
            "Loaded validation dataset with shape: (200614, 3)\n"
          ]
        }
      ],
      "source": [
        "# We load the validation dataset\n",
        "\n",
        "val_df = pd.read_csv(\"val_dataset.csv\")\n",
        "\n",
        "print(f\"Loaded validation dataset with shape: {val_df.shape}\")"
      ]
    },
    {
      "cell_type": "code",
      "execution_count": null,
      "id": "2ba8da74-abb8-45b1-a637-e57386b02a33",
      "metadata": {
        "id": "2ba8da74-abb8-45b1-a637-e57386b02a33"
      },
      "outputs": [],
      "source": [
        "# Drop any rows where 'text' or 'target' is null\n",
        "train_df = train_df.dropna(subset=[\"text\", \"target\"])\n",
        "val_df = val_df.dropna(subset=[\"text\", \"target\"])\n",
        "\n",
        "# Replace 'MENTION' with 'mentionuser' in the 'text' column\n",
        "train_df['text'] = train_df['text'].str.replace('MENTION', 'mentionuser', regex=False)\n",
        "val_df['text'] = val_df['text'].str.replace('MENTION', 'mentionuser', regex=False)\n",
        "\n",
        "# Keep only text and target columns\n",
        "train_df=train_df[['text', 'target']]\n",
        "val_df=val_df[['text', 'target']]"
      ]
    },
    {
      "cell_type": "code",
      "execution_count": null,
      "id": "0677ad14-6a04-4b0a-847a-e7b1d078a718",
      "metadata": {
        "id": "0677ad14-6a04-4b0a-847a-e7b1d078a718",
        "outputId": "671a5d40-5c73-432f-f93d-78cbf9b320b0"
      },
      "outputs": [
        {
          "data": {
            "text/html": [
              "<div>\n",
              "<style scoped>\n",
              "    .dataframe tbody tr th:only-of-type {\n",
              "        vertical-align: middle;\n",
              "    }\n",
              "\n",
              "    .dataframe tbody tr th {\n",
              "        vertical-align: top;\n",
              "    }\n",
              "\n",
              "    .dataframe thead th {\n",
              "        text-align: right;\n",
              "    }\n",
              "</style>\n",
              "<table border=\"1\" class=\"dataframe\">\n",
              "  <thead>\n",
              "    <tr style=\"text-align: right;\">\n",
              "      <th></th>\n",
              "      <th>text</th>\n",
              "      <th>target</th>\n",
              "    </tr>\n",
              "  </thead>\n",
              "  <tbody>\n",
              "    <tr>\n",
              "      <th>0</th>\n",
              "      <td>mentionuser good u great band yes think daught...</td>\n",
              "      <td>4</td>\n",
              "    </tr>\n",
              "    <tr>\n",
              "      <th>1</th>\n",
              "      <td>work glummy wednesday</td>\n",
              "      <td>0</td>\n",
              "    </tr>\n",
              "    <tr>\n",
              "      <th>2</th>\n",
              "      <td>getting lost signpostfree road kildareoffaly w...</td>\n",
              "      <td>0</td>\n",
              "    </tr>\n",
              "    <tr>\n",
              "      <th>3</th>\n",
              "      <td>good morning everyone</td>\n",
              "      <td>4</td>\n",
              "    </tr>\n",
              "    <tr>\n",
              "      <th>4</th>\n",
              "      <td>kidding coursethough wish could part late nigh...</td>\n",
              "      <td>0</td>\n",
              "    </tr>\n",
              "  </tbody>\n",
              "</table>\n",
              "</div>"
            ],
            "text/plain": [
              "                                                text  target\n",
              "0  mentionuser good u great band yes think daught...       4\n",
              "1                              work glummy wednesday       0\n",
              "2  getting lost signpostfree road kildareoffaly w...       0\n",
              "3                              good morning everyone       4\n",
              "4  kidding coursethough wish could part late nigh...       0"
            ]
          },
          "execution_count": 6,
          "metadata": {},
          "output_type": "execute_result"
        }
      ],
      "source": [
        "train_df.head()"
      ]
    },
    {
      "cell_type": "code",
      "execution_count": null,
      "id": "43ddf923-a47e-4736-8933-916407b8284e",
      "metadata": {
        "id": "43ddf923-a47e-4736-8933-916407b8284e",
        "outputId": "ba375485-f94d-44cc-ddd4-dfe7350fdd0e"
      },
      "outputs": [
        {
          "data": {
            "text/html": [
              "<div>\n",
              "<style scoped>\n",
              "    .dataframe tbody tr th:only-of-type {\n",
              "        vertical-align: middle;\n",
              "    }\n",
              "\n",
              "    .dataframe tbody tr th {\n",
              "        vertical-align: top;\n",
              "    }\n",
              "\n",
              "    .dataframe thead th {\n",
              "        text-align: right;\n",
              "    }\n",
              "</style>\n",
              "<table border=\"1\" class=\"dataframe\">\n",
              "  <thead>\n",
              "    <tr style=\"text-align: right;\">\n",
              "      <th></th>\n",
              "      <th>text</th>\n",
              "      <th>target</th>\n",
              "    </tr>\n",
              "  </thead>\n",
              "  <tbody>\n",
              "    <tr>\n",
              "      <th>0</th>\n",
              "      <td>mentionuser life lie</td>\n",
              "      <td>0</td>\n",
              "    </tr>\n",
              "    <tr>\n",
              "      <th>1</th>\n",
              "      <td>mentionuser airbender except stunning lack asi...</td>\n",
              "      <td>0</td>\n",
              "    </tr>\n",
              "    <tr>\n",
              "      <th>2</th>\n",
              "      <td>loving god fullest</td>\n",
              "      <td>4</td>\n",
              "    </tr>\n",
              "    <tr>\n",
              "      <th>3</th>\n",
              "      <td>kind sort awaketrying wake melissa go oral sur...</td>\n",
              "      <td>0</td>\n",
              "    </tr>\n",
              "    <tr>\n",
              "      <th>4</th>\n",
              "      <td>mentionuser bienvenue à montreal canada great ...</td>\n",
              "      <td>0</td>\n",
              "    </tr>\n",
              "  </tbody>\n",
              "</table>\n",
              "</div>"
            ],
            "text/plain": [
              "                                                text  target\n",
              "0                               mentionuser life lie       0\n",
              "1  mentionuser airbender except stunning lack asi...       0\n",
              "2                                 loving god fullest       4\n",
              "3  kind sort awaketrying wake melissa go oral sur...       0\n",
              "4  mentionuser bienvenue à montreal canada great ...       0"
            ]
          },
          "execution_count": 7,
          "metadata": {},
          "output_type": "execute_result"
        }
      ],
      "source": [
        "val_df.head()"
      ]
    },
    {
      "cell_type": "code",
      "execution_count": null,
      "id": "fXfKl95mkCwK",
      "metadata": {
        "colab": {
          "base_uri": "https://localhost:8080/"
        },
        "id": "fXfKl95mkCwK",
        "outputId": "32004fc9-51e0-4fdb-da8a-c5d9259aaac9"
      },
      "outputs": [
        {
          "name": "stdout",
          "output_type": "stream",
          "text": [
            "Train shape: (936194, 2)\n",
            "Validation shape: (200614, 2)\n",
            "X_train shape: (936194,) | y_train shape: (936194,)\n",
            "X_val shape: (200614,) | y_val shape: (200614,)\n"
          ]
        }
      ],
      "source": [
        "# Now, we extract input and labels\n",
        "X_train = train_df['text']\n",
        "y_train = train_df['target']\n",
        "X_val = val_df['text']\n",
        "y_val = val_df['target']\n",
        "\n",
        "# Final check\n",
        "print(\"Train shape:\", train_df.shape)\n",
        "print(\"Validation shape:\", val_df.shape)\n",
        "print(\"X_train shape:\", X_train.shape, \"| y_train shape:\", y_train.shape)\n",
        "print(\"X_val shape:\", X_val.shape, \"| y_val shape:\", y_val.shape)"
      ]
    },
    {
      "cell_type": "markdown",
      "id": "82172ce7-5869-4448-8c89-3e9450c1e426",
      "metadata": {
        "id": "82172ce7-5869-4448-8c89-3e9450c1e426"
      },
      "source": [
        "\n",
        "<div style=\"background-color:#e6f2ff; border-left:8px solid #0059b3; padding:20px; margin:20px 0;\">\n",
        "  <h2 style=\"color:#003366;\"><strong>4.1 Baseline Model – TF-IDF + Logistic Regression</strong></h2>\n",
        "  <p style=\"color:#333333;\">TF-IDF vectorization + logistic regression as a benchmark.</p>\n",
        "</div>\n"
      ]
    },
    {
      "cell_type": "code",
      "execution_count": null,
      "id": "07efb030-35ad-4e70-9186-b72e6bd676ec",
      "metadata": {
        "id": "07efb030-35ad-4e70-9186-b72e6bd676ec"
      },
      "outputs": [],
      "source": [
        "import pandas as pd\n",
        "import numpy as np\n",
        "from sklearn.feature_extraction.text import TfidfVectorizer\n",
        "from sklearn.linear_model import LogisticRegression\n",
        "from sklearn.model_selection import train_test_split\n",
        "from sklearn.metrics import classification_report, accuracy_score\n",
        "from sklearn.pipeline import Pipeline\n",
        "import re\n",
        "from nltk.corpus import stopwords\n",
        "from nltk.stem import WordNetLemmatizer\n",
        "import nltk"
      ]
    },
    {
      "cell_type": "code",
      "execution_count": null,
      "id": "jTxphGGkTnOh",
      "metadata": {
        "colab": {
          "base_uri": "https://localhost:8080/"
        },
        "id": "jTxphGGkTnOh",
        "outputId": "95773f42-e1f5-4e5c-8cb0-25644381d512"
      },
      "outputs": [
        {
          "name": "stderr",
          "output_type": "stream",
          "text": [
            "[nltk_data] Downloading package stopwords to\n",
            "[nltk_data]     /Users/ariesslin/nltk_data...\n",
            "[nltk_data]   Package stopwords is already up-to-date!\n",
            "[nltk_data] Downloading package wordnet to\n",
            "[nltk_data]     /Users/ariesslin/nltk_data...\n",
            "[nltk_data]   Package wordnet is already up-to-date!\n",
            "[nltk_data] Downloading package omw-1.4 to\n",
            "[nltk_data]     /Users/ariesslin/nltk_data...\n",
            "[nltk_data]   Package omw-1.4 is already up-to-date!\n"
          ]
        },
        {
          "data": {
            "text/plain": [
              "True"
            ]
          },
          "execution_count": 47,
          "metadata": {},
          "output_type": "execute_result"
        }
      ],
      "source": [
        "# Download NLTK resources\n",
        "nltk.download('stopwords')\n",
        "nltk.download('wordnet')\n",
        "nltk.download('omw-1.4')"
      ]
    },
    {
      "cell_type": "code",
      "execution_count": null,
      "id": "W3so7EAITnAo",
      "metadata": {
        "id": "W3so7EAITnAo"
      },
      "outputs": [],
      "source": [
        "# Preprocessing function\n",
        "def preprocess_text(text):\n",
        "    # Convert to lowercase\n",
        "    text = text.lower()\n",
        "    # Remove URLs\n",
        "    text = re.sub(r'http\\S+|www\\S+|https\\S+', '', text, flags=re.MULTILINE)\n",
        "    # Remove user mentions\n",
        "    text = re.sub(r'@\\w+', '', text)\n",
        "    # Remove special characters and numbers\n",
        "    text = re.sub(r'[^a-zA-Z\\s]', '', text)\n",
        "    # Remove extra whitespace\n",
        "    text = re.sub(r'\\s+', ' ', text).strip()\n",
        "\n",
        "    # Tokenization and stopword removal\n",
        "    tokens = text.split()\n",
        "    stop_words = set(stopwords.words('english'))\n",
        "    tokens = [word for word in tokens if word not in stop_words]\n",
        "\n",
        "    # Lemmatization\n",
        "    lemmatizer = WordNetLemmatizer()\n",
        "    tokens = [lemmatizer.lemmatize(word) for word in tokens]\n",
        "    return ' '.join(tokens)"
      ]
    },
    {
      "cell_type": "code",
      "execution_count": null,
      "id": "_q-5p6kfnD5y",
      "metadata": {
        "colab": {
          "base_uri": "https://localhost:8080/",
          "height": 206
        },
        "id": "_q-5p6kfnD5y",
        "outputId": "faea0a0a-24df-4cd8-af4f-2fa624db5a11"
      },
      "outputs": [
        {
          "data": {
            "text/html": [
              "<div>\n",
              "<style scoped>\n",
              "    .dataframe tbody tr th:only-of-type {\n",
              "        vertical-align: middle;\n",
              "    }\n",
              "\n",
              "    .dataframe tbody tr th {\n",
              "        vertical-align: top;\n",
              "    }\n",
              "\n",
              "    .dataframe thead th {\n",
              "        text-align: right;\n",
              "    }\n",
              "</style>\n",
              "<table border=\"1\" class=\"dataframe\">\n",
              "  <thead>\n",
              "    <tr style=\"text-align: right;\">\n",
              "      <th></th>\n",
              "      <th>text</th>\n",
              "      <th>target</th>\n",
              "    </tr>\n",
              "  </thead>\n",
              "  <tbody>\n",
              "    <tr>\n",
              "      <th>0</th>\n",
              "      <td>text</td>\n",
              "      <td>target</td>\n",
              "    </tr>\n",
              "    <tr>\n",
              "      <th>1</th>\n",
              "      <td>mentionuser thats bummer shoulda got david car...</td>\n",
              "      <td>0</td>\n",
              "    </tr>\n",
              "    <tr>\n",
              "      <th>2</th>\n",
              "      <td>upset cant update facebook texting might cry r...</td>\n",
              "      <td>0</td>\n",
              "    </tr>\n",
              "    <tr>\n",
              "      <th>3</th>\n",
              "      <td>mentionuser dived many time ball managed save ...</td>\n",
              "      <td>0</td>\n",
              "    </tr>\n",
              "    <tr>\n",
              "      <th>4</th>\n",
              "      <td>whole body feel itchy like fire</td>\n",
              "      <td>0</td>\n",
              "    </tr>\n",
              "  </tbody>\n",
              "</table>\n",
              "</div>"
            ],
            "text/plain": [
              "                                                text  target\n",
              "0                                               text  target\n",
              "1  mentionuser thats bummer shoulda got david car...       0\n",
              "2  upset cant update facebook texting might cry r...       0\n",
              "3  mentionuser dived many time ball managed save ...       0\n",
              "4                    whole body feel itchy like fire       0"
            ]
          },
          "execution_count": 49,
          "metadata": {},
          "output_type": "execute_result"
        }
      ],
      "source": [
        "# Load dataset from the preprocessed data\n",
        "Tweets_copy_df = Tweets.copy()\n",
        "Tweets_copy_df.head()"
      ]
    },
    {
      "cell_type": "code",
      "execution_count": null,
      "id": "n_l63n-GlS51",
      "metadata": {
        "id": "n_l63n-GlS51"
      },
      "outputs": [],
      "source": [
        "\n",
        "\n",
        "# Map sentiment labels (0=negative, 4=positive) to (0=negative, 1=positive)\n",
        "#Tweets_copy_df['target'] = Tweets_copy_df['target'].map({0: 0, 4: 1})\n",
        "\n",
        "# Preprocess text\n",
        "Tweets_copy_df['clean_text'] = Tweets_copy_df['text'].apply(preprocess_text)"
      ]
    },
    {
      "cell_type": "code",
      "execution_count": null,
      "id": "eqmRRwbRpena",
      "metadata": {
        "colab": {
          "base_uri": "https://localhost:8080/"
        },
        "id": "eqmRRwbRpena",
        "outputId": "3e390ea8-d253-4b4c-fa4d-09d8c59ac171"
      },
      "outputs": [
        {
          "name": "stdout",
          "output_type": "stream",
          "text": [
            "X_train shape: (1279596,) | y_train shape: (1279596,)\n",
            "X_test shape: (319900,) | y_test shape: (319900,)\n"
          ]
        }
      ],
      "source": [
        "# Split data\n",
        "X_train_1, X_test_1, y_train_1, y_test_1 = train_test_split(\n",
        "    Tweets_copy_df['clean_text'], Tweets_copy_df['target'], test_size=0.2, random_state=42\n",
        ")\n",
        "print(\"X_train shape:\", X_train_1.shape, \"| y_train shape:\", y_train_1.shape)\n",
        "print(\"X_test shape:\", X_test_1.shape, \"| y_test shape:\", y_test_1.shape)"
      ]
    },
    {
      "cell_type": "code",
      "execution_count": null,
      "id": "JNIqoxjglTd1",
      "metadata": {
        "id": "JNIqoxjglTd1"
      },
      "outputs": [],
      "source": [
        "# Create pipeline with TF-IDF and Logistic Regression\n",
        "pipeline = Pipeline([\n",
        "    ('tfidf', TfidfVectorizer(\n",
        "        max_features=10000,\n",
        "        ngram_range=(1, 2) )\n",
        "    ),\n",
        "    ('clf', LogisticRegression(\n",
        "        max_iter=1000,\n",
        "        random_state=42,\n",
        "        class_weight='balanced')\n",
        "    )\n",
        "])"
      ]
    },
    {
      "cell_type": "code",
      "execution_count": null,
      "id": "QZlB2-qjszRS",
      "metadata": {
        "colab": {
          "base_uri": "https://localhost:8080/",
          "height": 241
        },
        "id": "QZlB2-qjszRS",
        "outputId": "7592ec07-1c69-4113-8e76-c483549be6ca"
      },
      "outputs": [
        {
          "data": {
            "text/plain": [
              "174335     0\n",
              "306270     0\n",
              "1518505    4\n",
              "1258400    4\n",
              "508917     0\n",
              "Name: target, dtype: object"
            ]
          },
          "execution_count": 53,
          "metadata": {},
          "output_type": "execute_result"
        }
      ],
      "source": [
        "y_train_1.head()"
      ]
    },
    {
      "cell_type": "code",
      "execution_count": null,
      "id": "mSWTVg1Zt5Mj",
      "metadata": {
        "colab": {
          "base_uri": "https://localhost:8080/"
        },
        "id": "mSWTVg1Zt5Mj",
        "outputId": "76139089-b351-4248-e423-bdbc8b93d85a"
      },
      "outputs": [
        {
          "name": "stdout",
          "output_type": "stream",
          "text": [
            "Missing values in y_train: 0\n",
            "Unique values before conversion: ['0' 0 4 'target']\n",
            "Missing values in y_train: 0\n",
            "Unique values before conversion: [4 0 '0']\n"
          ]
        }
      ],
      "source": [
        "print(\"Missing values in y_train:\", y_train_1.isna().sum())\n",
        "print(\"Unique values before conversion:\", y_train_1.unique())\n",
        "print(\"Missing values in y_train:\", y_test_1.isna().sum())\n",
        "print(\"Unique values before conversion:\", y_test_1.unique())"
      ]
    },
    {
      "cell_type": "code",
      "execution_count": null,
      "id": "iFIEBghfuHPo",
      "metadata": {
        "id": "iFIEBghfuHPo"
      },
      "outputs": [],
      "source": [
        "y_train_1 = y_train_1.apply(lambda x: 0 if x=='target' else x)"
      ]
    },
    {
      "cell_type": "code",
      "execution_count": null,
      "id": "9Ddj9f5oup0Z",
      "metadata": {
        "colab": {
          "base_uri": "https://localhost:8080/"
        },
        "id": "9Ddj9f5oup0Z",
        "outputId": "c800d2ee-b6ef-42a8-ad12-f027c8021d76"
      },
      "outputs": [
        {
          "name": "stdout",
          "output_type": "stream",
          "text": [
            "Unique values before conversion: ['0' 0 4]\n"
          ]
        }
      ],
      "source": [
        "print(\"Unique values before conversion:\", y_train_1.unique())"
      ]
    },
    {
      "cell_type": "code",
      "execution_count": null,
      "id": "iXcxSkyAsU57",
      "metadata": {
        "colab": {
          "base_uri": "https://localhost:8080/",
          "height": 228
        },
        "id": "iXcxSkyAsU57",
        "outputId": "efe47b79-5969-4a4a-a579-fa6d92104278"
      },
      "outputs": [
        {
          "name": "stdout",
          "output_type": "stream",
          "text": [
            "Unique values in y_train: [0 4]\n",
            "Data type: int64\n",
            "Unique values in y_train: [0 4]\n",
            "Data type: int64\n"
          ]
        },
        {
          "data": {
            "text/html": [
              "<style>#sk-container-id-1 {\n",
              "  /* Definition of color scheme common for light and dark mode */\n",
              "  --sklearn-color-text: black;\n",
              "  --sklearn-color-line: gray;\n",
              "  /* Definition of color scheme for unfitted estimators */\n",
              "  --sklearn-color-unfitted-level-0: #fff5e6;\n",
              "  --sklearn-color-unfitted-level-1: #f6e4d2;\n",
              "  --sklearn-color-unfitted-level-2: #ffe0b3;\n",
              "  --sklearn-color-unfitted-level-3: chocolate;\n",
              "  /* Definition of color scheme for fitted estimators */\n",
              "  --sklearn-color-fitted-level-0: #f0f8ff;\n",
              "  --sklearn-color-fitted-level-1: #d4ebff;\n",
              "  --sklearn-color-fitted-level-2: #b3dbfd;\n",
              "  --sklearn-color-fitted-level-3: cornflowerblue;\n",
              "\n",
              "  /* Specific color for light theme */\n",
              "  --sklearn-color-text-on-default-background: var(--sg-text-color, var(--theme-code-foreground, var(--jp-content-font-color1, black)));\n",
              "  --sklearn-color-background: var(--sg-background-color, var(--theme-background, var(--jp-layout-color0, white)));\n",
              "  --sklearn-color-border-box: var(--sg-text-color, var(--theme-code-foreground, var(--jp-content-font-color1, black)));\n",
              "  --sklearn-color-icon: #696969;\n",
              "\n",
              "  @media (prefers-color-scheme: dark) {\n",
              "    /* Redefinition of color scheme for dark theme */\n",
              "    --sklearn-color-text-on-default-background: var(--sg-text-color, var(--theme-code-foreground, var(--jp-content-font-color1, white)));\n",
              "    --sklearn-color-background: var(--sg-background-color, var(--theme-background, var(--jp-layout-color0, #111)));\n",
              "    --sklearn-color-border-box: var(--sg-text-color, var(--theme-code-foreground, var(--jp-content-font-color1, white)));\n",
              "    --sklearn-color-icon: #878787;\n",
              "  }\n",
              "}\n",
              "\n",
              "#sk-container-id-1 {\n",
              "  color: var(--sklearn-color-text);\n",
              "}\n",
              "\n",
              "#sk-container-id-1 pre {\n",
              "  padding: 0;\n",
              "}\n",
              "\n",
              "#sk-container-id-1 input.sk-hidden--visually {\n",
              "  border: 0;\n",
              "  clip: rect(1px 1px 1px 1px);\n",
              "  clip: rect(1px, 1px, 1px, 1px);\n",
              "  height: 1px;\n",
              "  margin: -1px;\n",
              "  overflow: hidden;\n",
              "  padding: 0;\n",
              "  position: absolute;\n",
              "  width: 1px;\n",
              "}\n",
              "\n",
              "#sk-container-id-1 div.sk-dashed-wrapped {\n",
              "  border: 1px dashed var(--sklearn-color-line);\n",
              "  margin: 0 0.4em 0.5em 0.4em;\n",
              "  box-sizing: border-box;\n",
              "  padding-bottom: 0.4em;\n",
              "  background-color: var(--sklearn-color-background);\n",
              "}\n",
              "\n",
              "#sk-container-id-1 div.sk-container {\n",
              "  /* jupyter's `normalize.less` sets `[hidden] { display: none; }`\n",
              "     but bootstrap.min.css set `[hidden] { display: none !important; }`\n",
              "     so we also need the `!important` here to be able to override the\n",
              "     default hidden behavior on the sphinx rendered scikit-learn.org.\n",
              "     See: https://github.com/scikit-learn/scikit-learn/issues/21755 */\n",
              "  display: inline-block !important;\n",
              "  position: relative;\n",
              "}\n",
              "\n",
              "#sk-container-id-1 div.sk-text-repr-fallback {\n",
              "  display: none;\n",
              "}\n",
              "\n",
              "div.sk-parallel-item,\n",
              "div.sk-serial,\n",
              "div.sk-item {\n",
              "  /* draw centered vertical line to link estimators */\n",
              "  background-image: linear-gradient(var(--sklearn-color-text-on-default-background), var(--sklearn-color-text-on-default-background));\n",
              "  background-size: 2px 100%;\n",
              "  background-repeat: no-repeat;\n",
              "  background-position: center center;\n",
              "}\n",
              "\n",
              "/* Parallel-specific style estimator block */\n",
              "\n",
              "#sk-container-id-1 div.sk-parallel-item::after {\n",
              "  content: \"\";\n",
              "  width: 100%;\n",
              "  border-bottom: 2px solid var(--sklearn-color-text-on-default-background);\n",
              "  flex-grow: 1;\n",
              "}\n",
              "\n",
              "#sk-container-id-1 div.sk-parallel {\n",
              "  display: flex;\n",
              "  align-items: stretch;\n",
              "  justify-content: center;\n",
              "  background-color: var(--sklearn-color-background);\n",
              "  position: relative;\n",
              "}\n",
              "\n",
              "#sk-container-id-1 div.sk-parallel-item {\n",
              "  display: flex;\n",
              "  flex-direction: column;\n",
              "}\n",
              "\n",
              "#sk-container-id-1 div.sk-parallel-item:first-child::after {\n",
              "  align-self: flex-end;\n",
              "  width: 50%;\n",
              "}\n",
              "\n",
              "#sk-container-id-1 div.sk-parallel-item:last-child::after {\n",
              "  align-self: flex-start;\n",
              "  width: 50%;\n",
              "}\n",
              "\n",
              "#sk-container-id-1 div.sk-parallel-item:only-child::after {\n",
              "  width: 0;\n",
              "}\n",
              "\n",
              "/* Serial-specific style estimator block */\n",
              "\n",
              "#sk-container-id-1 div.sk-serial {\n",
              "  display: flex;\n",
              "  flex-direction: column;\n",
              "  align-items: center;\n",
              "  background-color: var(--sklearn-color-background);\n",
              "  padding-right: 1em;\n",
              "  padding-left: 1em;\n",
              "}\n",
              "\n",
              "\n",
              "/* Toggleable style: style used for estimator/Pipeline/ColumnTransformer box that is\n",
              "clickable and can be expanded/collapsed.\n",
              "- Pipeline and ColumnTransformer use this feature and define the default style\n",
              "- Estimators will overwrite some part of the style using the `sk-estimator` class\n",
              "*/\n",
              "\n",
              "/* Pipeline and ColumnTransformer style (default) */\n",
              "\n",
              "#sk-container-id-1 div.sk-toggleable {\n",
              "  /* Default theme specific background. It is overwritten whether we have a\n",
              "  specific estimator or a Pipeline/ColumnTransformer */\n",
              "  background-color: var(--sklearn-color-background);\n",
              "}\n",
              "\n",
              "/* Toggleable label */\n",
              "#sk-container-id-1 label.sk-toggleable__label {\n",
              "  cursor: pointer;\n",
              "  display: block;\n",
              "  width: 100%;\n",
              "  margin-bottom: 0;\n",
              "  padding: 0.5em;\n",
              "  box-sizing: border-box;\n",
              "  text-align: center;\n",
              "}\n",
              "\n",
              "#sk-container-id-1 label.sk-toggleable__label-arrow:before {\n",
              "  /* Arrow on the left of the label */\n",
              "  content: \"▸\";\n",
              "  float: left;\n",
              "  margin-right: 0.25em;\n",
              "  color: var(--sklearn-color-icon);\n",
              "}\n",
              "\n",
              "#sk-container-id-1 label.sk-toggleable__label-arrow:hover:before {\n",
              "  color: var(--sklearn-color-text);\n",
              "}\n",
              "\n",
              "/* Toggleable content - dropdown */\n",
              "\n",
              "#sk-container-id-1 div.sk-toggleable__content {\n",
              "  max-height: 0;\n",
              "  max-width: 0;\n",
              "  overflow: hidden;\n",
              "  text-align: left;\n",
              "  /* unfitted */\n",
              "  background-color: var(--sklearn-color-unfitted-level-0);\n",
              "}\n",
              "\n",
              "#sk-container-id-1 div.sk-toggleable__content.fitted {\n",
              "  /* fitted */\n",
              "  background-color: var(--sklearn-color-fitted-level-0);\n",
              "}\n",
              "\n",
              "#sk-container-id-1 div.sk-toggleable__content pre {\n",
              "  margin: 0.2em;\n",
              "  border-radius: 0.25em;\n",
              "  color: var(--sklearn-color-text);\n",
              "  /* unfitted */\n",
              "  background-color: var(--sklearn-color-unfitted-level-0);\n",
              "}\n",
              "\n",
              "#sk-container-id-1 div.sk-toggleable__content.fitted pre {\n",
              "  /* unfitted */\n",
              "  background-color: var(--sklearn-color-fitted-level-0);\n",
              "}\n",
              "\n",
              "#sk-container-id-1 input.sk-toggleable__control:checked~div.sk-toggleable__content {\n",
              "  /* Expand drop-down */\n",
              "  max-height: 200px;\n",
              "  max-width: 100%;\n",
              "  overflow: auto;\n",
              "}\n",
              "\n",
              "#sk-container-id-1 input.sk-toggleable__control:checked~label.sk-toggleable__label-arrow:before {\n",
              "  content: \"▾\";\n",
              "}\n",
              "\n",
              "/* Pipeline/ColumnTransformer-specific style */\n",
              "\n",
              "#sk-container-id-1 div.sk-label input.sk-toggleable__control:checked~label.sk-toggleable__label {\n",
              "  color: var(--sklearn-color-text);\n",
              "  background-color: var(--sklearn-color-unfitted-level-2);\n",
              "}\n",
              "\n",
              "#sk-container-id-1 div.sk-label.fitted input.sk-toggleable__control:checked~label.sk-toggleable__label {\n",
              "  background-color: var(--sklearn-color-fitted-level-2);\n",
              "}\n",
              "\n",
              "/* Estimator-specific style */\n",
              "\n",
              "/* Colorize estimator box */\n",
              "#sk-container-id-1 div.sk-estimator input.sk-toggleable__control:checked~label.sk-toggleable__label {\n",
              "  /* unfitted */\n",
              "  background-color: var(--sklearn-color-unfitted-level-2);\n",
              "}\n",
              "\n",
              "#sk-container-id-1 div.sk-estimator.fitted input.sk-toggleable__control:checked~label.sk-toggleable__label {\n",
              "  /* fitted */\n",
              "  background-color: var(--sklearn-color-fitted-level-2);\n",
              "}\n",
              "\n",
              "#sk-container-id-1 div.sk-label label.sk-toggleable__label,\n",
              "#sk-container-id-1 div.sk-label label {\n",
              "  /* The background is the default theme color */\n",
              "  color: var(--sklearn-color-text-on-default-background);\n",
              "}\n",
              "\n",
              "/* On hover, darken the color of the background */\n",
              "#sk-container-id-1 div.sk-label:hover label.sk-toggleable__label {\n",
              "  color: var(--sklearn-color-text);\n",
              "  background-color: var(--sklearn-color-unfitted-level-2);\n",
              "}\n",
              "\n",
              "/* Label box, darken color on hover, fitted */\n",
              "#sk-container-id-1 div.sk-label.fitted:hover label.sk-toggleable__label.fitted {\n",
              "  color: var(--sklearn-color-text);\n",
              "  background-color: var(--sklearn-color-fitted-level-2);\n",
              "}\n",
              "\n",
              "/* Estimator label */\n",
              "\n",
              "#sk-container-id-1 div.sk-label label {\n",
              "  font-family: monospace;\n",
              "  font-weight: bold;\n",
              "  display: inline-block;\n",
              "  line-height: 1.2em;\n",
              "}\n",
              "\n",
              "#sk-container-id-1 div.sk-label-container {\n",
              "  text-align: center;\n",
              "}\n",
              "\n",
              "/* Estimator-specific */\n",
              "#sk-container-id-1 div.sk-estimator {\n",
              "  font-family: monospace;\n",
              "  border: 1px dotted var(--sklearn-color-border-box);\n",
              "  border-radius: 0.25em;\n",
              "  box-sizing: border-box;\n",
              "  margin-bottom: 0.5em;\n",
              "  /* unfitted */\n",
              "  background-color: var(--sklearn-color-unfitted-level-0);\n",
              "}\n",
              "\n",
              "#sk-container-id-1 div.sk-estimator.fitted {\n",
              "  /* fitted */\n",
              "  background-color: var(--sklearn-color-fitted-level-0);\n",
              "}\n",
              "\n",
              "/* on hover */\n",
              "#sk-container-id-1 div.sk-estimator:hover {\n",
              "  /* unfitted */\n",
              "  background-color: var(--sklearn-color-unfitted-level-2);\n",
              "}\n",
              "\n",
              "#sk-container-id-1 div.sk-estimator.fitted:hover {\n",
              "  /* fitted */\n",
              "  background-color: var(--sklearn-color-fitted-level-2);\n",
              "}\n",
              "\n",
              "/* Specification for estimator info (e.g. \"i\" and \"?\") */\n",
              "\n",
              "/* Common style for \"i\" and \"?\" */\n",
              "\n",
              ".sk-estimator-doc-link,\n",
              "a:link.sk-estimator-doc-link,\n",
              "a:visited.sk-estimator-doc-link {\n",
              "  float: right;\n",
              "  font-size: smaller;\n",
              "  line-height: 1em;\n",
              "  font-family: monospace;\n",
              "  background-color: var(--sklearn-color-background);\n",
              "  border-radius: 1em;\n",
              "  height: 1em;\n",
              "  width: 1em;\n",
              "  text-decoration: none !important;\n",
              "  margin-left: 1ex;\n",
              "  /* unfitted */\n",
              "  border: var(--sklearn-color-unfitted-level-1) 1pt solid;\n",
              "  color: var(--sklearn-color-unfitted-level-1);\n",
              "}\n",
              "\n",
              ".sk-estimator-doc-link.fitted,\n",
              "a:link.sk-estimator-doc-link.fitted,\n",
              "a:visited.sk-estimator-doc-link.fitted {\n",
              "  /* fitted */\n",
              "  border: var(--sklearn-color-fitted-level-1) 1pt solid;\n",
              "  color: var(--sklearn-color-fitted-level-1);\n",
              "}\n",
              "\n",
              "/* On hover */\n",
              "div.sk-estimator:hover .sk-estimator-doc-link:hover,\n",
              ".sk-estimator-doc-link:hover,\n",
              "div.sk-label-container:hover .sk-estimator-doc-link:hover,\n",
              ".sk-estimator-doc-link:hover {\n",
              "  /* unfitted */\n",
              "  background-color: var(--sklearn-color-unfitted-level-3);\n",
              "  color: var(--sklearn-color-background);\n",
              "  text-decoration: none;\n",
              "}\n",
              "\n",
              "div.sk-estimator.fitted:hover .sk-estimator-doc-link.fitted:hover,\n",
              ".sk-estimator-doc-link.fitted:hover,\n",
              "div.sk-label-container:hover .sk-estimator-doc-link.fitted:hover,\n",
              ".sk-estimator-doc-link.fitted:hover {\n",
              "  /* fitted */\n",
              "  background-color: var(--sklearn-color-fitted-level-3);\n",
              "  color: var(--sklearn-color-background);\n",
              "  text-decoration: none;\n",
              "}\n",
              "\n",
              "/* Span, style for the box shown on hovering the info icon */\n",
              ".sk-estimator-doc-link span {\n",
              "  display: none;\n",
              "  z-index: 9999;\n",
              "  position: relative;\n",
              "  font-weight: normal;\n",
              "  right: .2ex;\n",
              "  padding: .5ex;\n",
              "  margin: .5ex;\n",
              "  width: min-content;\n",
              "  min-width: 20ex;\n",
              "  max-width: 50ex;\n",
              "  color: var(--sklearn-color-text);\n",
              "  box-shadow: 2pt 2pt 4pt #999;\n",
              "  /* unfitted */\n",
              "  background: var(--sklearn-color-unfitted-level-0);\n",
              "  border: .5pt solid var(--sklearn-color-unfitted-level-3);\n",
              "}\n",
              "\n",
              ".sk-estimator-doc-link.fitted span {\n",
              "  /* fitted */\n",
              "  background: var(--sklearn-color-fitted-level-0);\n",
              "  border: var(--sklearn-color-fitted-level-3);\n",
              "}\n",
              "\n",
              ".sk-estimator-doc-link:hover span {\n",
              "  display: block;\n",
              "}\n",
              "\n",
              "/* \"?\"-specific style due to the `<a>` HTML tag */\n",
              "\n",
              "#sk-container-id-1 a.estimator_doc_link {\n",
              "  float: right;\n",
              "  font-size: 1rem;\n",
              "  line-height: 1em;\n",
              "  font-family: monospace;\n",
              "  background-color: var(--sklearn-color-background);\n",
              "  border-radius: 1rem;\n",
              "  height: 1rem;\n",
              "  width: 1rem;\n",
              "  text-decoration: none;\n",
              "  /* unfitted */\n",
              "  color: var(--sklearn-color-unfitted-level-1);\n",
              "  border: var(--sklearn-color-unfitted-level-1) 1pt solid;\n",
              "}\n",
              "\n",
              "#sk-container-id-1 a.estimator_doc_link.fitted {\n",
              "  /* fitted */\n",
              "  border: var(--sklearn-color-fitted-level-1) 1pt solid;\n",
              "  color: var(--sklearn-color-fitted-level-1);\n",
              "}\n",
              "\n",
              "/* On hover */\n",
              "#sk-container-id-1 a.estimator_doc_link:hover {\n",
              "  /* unfitted */\n",
              "  background-color: var(--sklearn-color-unfitted-level-3);\n",
              "  color: var(--sklearn-color-background);\n",
              "  text-decoration: none;\n",
              "}\n",
              "\n",
              "#sk-container-id-1 a.estimator_doc_link.fitted:hover {\n",
              "  /* fitted */\n",
              "  background-color: var(--sklearn-color-fitted-level-3);\n",
              "}\n",
              "</style><div id=\"sk-container-id-1\" class=\"sk-top-container\"><div class=\"sk-text-repr-fallback\"><pre>Pipeline(steps=[(&#x27;tfidf&#x27;,\n",
              "                 TfidfVectorizer(max_features=10000, ngram_range=(1, 2))),\n",
              "                (&#x27;clf&#x27;,\n",
              "                 LogisticRegression(class_weight=&#x27;balanced&#x27;, max_iter=1000,\n",
              "                                    random_state=42))])</pre><b>In a Jupyter environment, please rerun this cell to show the HTML representation or trust the notebook. <br />On GitHub, the HTML representation is unable to render, please try loading this page with nbviewer.org.</b></div><div class=\"sk-container\" hidden><div class=\"sk-item sk-dashed-wrapped\"><div class=\"sk-label-container\"><div class=\"sk-label fitted sk-toggleable\"><input class=\"sk-toggleable__control sk-hidden--visually\" id=\"sk-estimator-id-1\" type=\"checkbox\" ><label for=\"sk-estimator-id-1\" class=\"sk-toggleable__label fitted sk-toggleable__label-arrow fitted\">&nbsp;&nbsp;Pipeline<a class=\"sk-estimator-doc-link fitted\" rel=\"noreferrer\" target=\"_blank\" href=\"https://scikit-learn.org/1.4/modules/generated/sklearn.pipeline.Pipeline.html\">?<span>Documentation for Pipeline</span></a><span class=\"sk-estimator-doc-link fitted\">i<span>Fitted</span></span></label><div class=\"sk-toggleable__content fitted\"><pre>Pipeline(steps=[(&#x27;tfidf&#x27;,\n",
              "                 TfidfVectorizer(max_features=10000, ngram_range=(1, 2))),\n",
              "                (&#x27;clf&#x27;,\n",
              "                 LogisticRegression(class_weight=&#x27;balanced&#x27;, max_iter=1000,\n",
              "                                    random_state=42))])</pre></div> </div></div><div class=\"sk-serial\"><div class=\"sk-item\"><div class=\"sk-estimator fitted sk-toggleable\"><input class=\"sk-toggleable__control sk-hidden--visually\" id=\"sk-estimator-id-2\" type=\"checkbox\" ><label for=\"sk-estimator-id-2\" class=\"sk-toggleable__label fitted sk-toggleable__label-arrow fitted\">&nbsp;TfidfVectorizer<a class=\"sk-estimator-doc-link fitted\" rel=\"noreferrer\" target=\"_blank\" href=\"https://scikit-learn.org/1.4/modules/generated/sklearn.feature_extraction.text.TfidfVectorizer.html\">?<span>Documentation for TfidfVectorizer</span></a></label><div class=\"sk-toggleable__content fitted\"><pre>TfidfVectorizer(max_features=10000, ngram_range=(1, 2))</pre></div> </div></div><div class=\"sk-item\"><div class=\"sk-estimator fitted sk-toggleable\"><input class=\"sk-toggleable__control sk-hidden--visually\" id=\"sk-estimator-id-3\" type=\"checkbox\" ><label for=\"sk-estimator-id-3\" class=\"sk-toggleable__label fitted sk-toggleable__label-arrow fitted\">&nbsp;LogisticRegression<a class=\"sk-estimator-doc-link fitted\" rel=\"noreferrer\" target=\"_blank\" href=\"https://scikit-learn.org/1.4/modules/generated/sklearn.linear_model.LogisticRegression.html\">?<span>Documentation for LogisticRegression</span></a></label><div class=\"sk-toggleable__content fitted\"><pre>LogisticRegression(class_weight=&#x27;balanced&#x27;, max_iter=1000, random_state=42)</pre></div> </div></div></div></div></div></div>"
            ],
            "text/plain": [
              "Pipeline(steps=[('tfidf',\n",
              "                 TfidfVectorizer(max_features=10000, ngram_range=(1, 2))),\n",
              "                ('clf',\n",
              "                 LogisticRegression(class_weight='balanced', max_iter=1000,\n",
              "                                    random_state=42))])"
            ]
          },
          "execution_count": 57,
          "metadata": {},
          "output_type": "execute_result"
        }
      ],
      "source": [
        "# Ensure your target variable is properly formatted\n",
        "y_train_1 = pd.to_numeric(y_train_1, errors='coerce').astype(int)\n",
        "y_test_1 = pd.to_numeric(y_test_1, errors='coerce').astype(int)\n",
        "\n",
        "# Verify the conversion\n",
        "print(\"Unique values in y_train:\", np.unique(y_train_1))\n",
        "print(\"Data type:\", y_train_1.dtype)\n",
        "print(\"Unique values in y_train:\", np.unique(y_test_1))\n",
        "print(\"Data type:\", y_test_1.dtype)\n",
        "\n",
        "# Train model\n",
        "pipeline.fit(X_train_1, y_train_1)"
      ]
    },
    {
      "cell_type": "code",
      "execution_count": null,
      "id": "wzgWOlrGlTgg",
      "metadata": {
        "colab": {
          "base_uri": "https://localhost:8080/"
        },
        "id": "wzgWOlrGlTgg",
        "outputId": "636b5661-8396-4fa6-ea3d-9e4a66dd5e13"
      },
      "outputs": [
        {
          "name": "stdout",
          "output_type": "stream",
          "text": [
            "Accuracy: 0.7844076273835574\n",
            "\n",
            "Classification Report:\n",
            "              precision    recall  f1-score   support\n",
            "\n",
            "           0       0.80      0.76      0.78    159404\n",
            "           4       0.77      0.81      0.79    160496\n",
            "\n",
            "    accuracy                           0.78    319900\n",
            "   macro avg       0.78      0.78      0.78    319900\n",
            "weighted avg       0.78      0.78      0.78    319900\n",
            "\n",
            "\n",
            "Test Tweet Prediction: 4\n"
          ]
        }
      ],
      "source": [
        "# Evaluate\n",
        "y_pred_1 = pipeline.predict(X_test_1)\n",
        "print(\"Accuracy:\", accuracy_score(y_test_1, y_pred_1))\n",
        "print(\"\\nClassification Report:\")\n",
        "print(classification_report(y_test_1, y_pred_1))\n",
        "\n",
        "# Example prediction\n",
        "test_tweet = \"I love this product! It's amazing.\"\n",
        "clean_test = preprocess_text(test_tweet)\n",
        "print(\"\\nTest Tweet Prediction:\", pipeline.predict([clean_test])[0])"
      ]
    },
    {
      "cell_type": "code",
      "execution_count": null,
      "id": "_-_2YlOPptZd",
      "metadata": {
        "id": "_-_2YlOPptZd"
      },
      "outputs": [],
      "source": [
        "from sklearn.model_selection import GridSearchCV\n",
        "from sklearn.pipeline import Pipeline\n",
        "\n",
        "def tune_hyperparameters(X_train, y_train):\n",
        "    \"\"\"\n",
        "    Perform hyperparameter tuning for TF-IDF + Logistic Regression pipeline\n",
        "\n",
        "    Args:\n",
        "        X_train: Training text data\n",
        "        y_train: Training labels\n",
        "\n",
        "    Returns:\n",
        "        Best estimator and best parameters found\n",
        "    \"\"\"\n",
        "    # Define the pipeline\n",
        "    pipeline = Pipeline([\n",
        "        ('tfidf', TfidfVectorizer()),\n",
        "        ('clf', LogisticRegression(max_iter=1000, random_state=42))\n",
        "    ])\n",
        "\n",
        "    # Define parameter grid\n",
        "    param_grid = {\n",
        "        'tfidf__max_features': [5000, 10000, 20000],\n",
        "        'tfidf__ngram_range': [(1, 1), (1, 2)],  # unigrams or unigrams+bigrams\n",
        "        'tfidf__min_df': [1, 5],  # minimum document frequency\n",
        "        'tfidf__max_df': [0.7, 0.9],  # maximum document frequency (ignore too common words)\n",
        "        'clf__C': [0.1, 1, 10],  # inverse of regularization strength\n",
        "        'clf__penalty': ['l1', 'l2'],  # regularization type\n",
        "        'clf__class_weight': [None, 'balanced']\n",
        "    }\n",
        "\n",
        "    # Set up GridSearchCV\n",
        "    grid_search = GridSearchCV(\n",
        "        pipeline,\n",
        "        param_grid,\n",
        "        cv=3,  # 3-fold cross-validation\n",
        "        scoring='f1_weighted',  # can change to 'accuracy' or other metrics\n",
        "        n_jobs=-1,  # use all available CPU cores\n",
        "        verbose=1\n",
        "    )\n",
        "\n",
        "    # Perform the grid search\n",
        "    print(\"Starting grid search...\")\n",
        "    grid_search.fit(X_train, y_train)\n",
        "\n",
        "    # Print results\n",
        "    print(\"\\nBest parameters found:\")\n",
        "    print(grid_search.best_params_)\n",
        "\n",
        "    print(\"\\nBest cross-validation score: {:.2f}\".format(grid_search.best_score_))\n",
        "\n",
        "    return grid_search.best_estimator_, grid_search.best_params_\n"
      ]
    },
    {
      "cell_type": "code",
      "execution_count": null,
      "id": "2JyHV1JYqxpq",
      "metadata": {
        "id": "2JyHV1JYqxpq"
      },
      "outputs": [],
      "source": [
        "from sklearn.model_selection import GridSearchCV\n",
        "from sklearn.pipeline import Pipeline\n",
        "import os\n",
        "import joblib\n",
        "\n",
        "def tune_hyperparameters_with_cache(X_train, y_train, cache_dir='./cache'):\n",
        "    \"\"\"\n",
        "    Perform hyperparameter tuning with memory caching\n",
        "\n",
        "    Args:\n",
        "        X_train: Training text data\n",
        "        y_train: Training labels\n",
        "        cache_dir: Directory to store cached computations\n",
        "\n",
        "    Returns:\n",
        "        Best estimator and best parameters found\n",
        "    \"\"\"\n",
        "    # Create cache directory if it doesn't exist\n",
        "    os.makedirs(cache_dir, exist_ok=True)\n",
        "\n",
        "    # Clear previous cache to ensure fresh start\n",
        "    joblib.Memory(location=cache_dir, verbose=0).clear()\n",
        "\n",
        "    # Define the pipeline with memory caching\n",
        "    pipeline = Pipeline([\n",
        "        ('tfidf', TfidfVectorizer()),\n",
        "        ('clf', LogisticRegression(max_iter=1000, random_state=42))\n",
        "    ], memory=joblib.Memory(location=cache_dir, verbose=0))\n",
        "\n",
        "    # Define parameter grid (same as before)\n",
        "    param_grid = {\n",
        "        'tfidf__max_features': [5000, 10000, 20000],\n",
        "        'tfidf__ngram_range': [(1, 1), (1, 2)],\n",
        "        'tfidf__min_df': [1, 5],\n",
        "        'tfidf__max_df': [0.7, 0.9],\n",
        "        'clf__C': [0.1, 1, 10],\n",
        "        'clf__penalty': ['l1', 'l2'],\n",
        "        'clf__class_weight': [None, 'balanced']\n",
        "    }\n",
        "\n",
        "    # Set up GridSearchCV\n",
        "    grid_search = GridSearchCV(\n",
        "        pipeline,\n",
        "        param_grid,\n",
        "        cv=3,\n",
        "        scoring='f1_weighted',\n",
        "        n_jobs=-1,\n",
        "        verbose=1\n",
        "    )\n",
        "\n",
        "    # Perform the grid search\n",
        "    print(f\"Starting grid search with caching at {cache_dir}...\")\n",
        "    grid_search.fit(X_train, y_train)\n",
        "\n",
        "    # Print results\n",
        "    print(\"\\nBest parameters found:\")\n",
        "    print(grid_search.best_params_)\n",
        "    print(\"\\nBest cross-validation score: {:.2f}\".format(grid_search.best_score_))\n",
        "\n",
        "    return grid_search.best_estimator_, grid_search.best_params_"
      ]
    },
    {
      "cell_type": "code",
      "execution_count": null,
      "id": "w7mNeS3sqJ-4",
      "metadata": {
        "colab": {
          "base_uri": "https://localhost:8080/"
        },
        "id": "w7mNeS3sqJ-4",
        "outputId": "e4d45694-7c4e-474e-c65c-6826d8f4ba37"
      },
      "outputs": [
        {
          "name": "stdout",
          "output_type": "stream",
          "text": [
            "Starting grid search...\n",
            "Fitting 3 folds for each of 288 candidates, totalling 864 fits\n"
          ]
        }
      ],
      "source": [
        "# Tune hyperparameters and test the best_model to predict a sample text:\n",
        "best_model, best_params = tune_hyperparameters(X_train, y_train)\n",
        "#best_model, best_params = tune_hyperparameters_with_cache(X_train, y_train, cache_dir='./tfidf_cache')\n",
        "#cache inspection\n",
        "#cache = joblib.Memory(location='./cache')\n",
        "#print(cache.reduce_size())"
      ]
    },
    {
      "cell_type": "code",
      "execution_count": null,
      "id": "kQJHrvn3rJl7",
      "metadata": {
        "id": "kQJHrvn3rJl7"
      },
      "outputs": [],
      "source": [
        "#clean cache\n",
        "#import shutil\n",
        "#shutil.rmtree('./cache')  # Complete cleanup"
      ]
    },
    {
      "cell_type": "code",
      "execution_count": null,
      "id": "xHDGcsgQqdrD",
      "metadata": {
        "id": "xHDGcsgQqdrD"
      },
      "outputs": [],
      "source": [
        "y_pred = best_model.predict(X_test)\n",
        "print(classification_report(y_test, y_pred))"
      ]
    },
    {
      "cell_type": "code",
      "execution_count": null,
      "id": "vpc-lpzkoOsg",
      "metadata": {
        "id": "vpc-lpzkoOsg"
      },
      "outputs": [],
      "source": []
    },
    {
      "cell_type": "markdown",
      "id": "61b2c984-64e4-49a4-afab-160dfbc2a57a",
      "metadata": {
        "id": "61b2c984-64e4-49a4-afab-160dfbc2a57a"
      },
      "source": [
        "\n",
        "<div style=\"background-color:#e6f2ff; border-left:8px solid #0059b3; padding:20px; margin:20px 0;\">\n",
        "  <h2 style=\"color:#003366;\"><strong>4.2 LSTM Model</strong></h2>\n",
        "  <p style=\"color:#333333;\">Bidirectional LSTM with pre-trained embeddings (e.g., Wrod2Vec).</p>\n",
        "</div>"
      ]
    },
    {
      "cell_type": "code",
      "execution_count": null,
      "id": "to08L5gzucYG",
      "metadata": {
        "id": "to08L5gzucYG"
      },
      "outputs": [],
      "source": [
        "# Step 1: Reinstall compatible keras\n",
        "#!pip uninstall -y keras\n",
        "#!pip install -q keras==3.8.0\n",
        "\n",
        "### Use !pip install -r \"../requirements.txt\" at the beginning of the notebook instead"
      ]
    },
    {
      "cell_type": "markdown",
      "id": "ae47580d-af49-48d2-a0f7-b25394f1fed5",
      "metadata": {
        "id": "ae47580d-af49-48d2-a0f7-b25394f1fed5"
      },
      "source": [
        "GPU was turned off here due to compatibility issue of the environment with CuDNN"
      ]
    },
    {
      "cell_type": "code",
      "execution_count": null,
      "id": "d9b59e83-dd9a-4339-9628-65f74a372e6a",
      "metadata": {
        "id": "d9b59e83-dd9a-4339-9628-65f74a372e6a",
        "outputId": "5aef880c-589c-4100-f8ee-0fd232ada9f0"
      },
      "outputs": [
        {
          "name": "stderr",
          "output_type": "stream",
          "text": [
            "2025-06-24 11:38:27.152179: E external/local_xla/xla/stream_executor/cuda/cuda_fft.cc:467] Unable to register cuFFT factory: Attempting to register factory for plugin cuFFT when one has already been registered\n",
            "WARNING: All log messages before absl::InitializeLog() is called are written to STDERR\n",
            "E0000 00:00:1750779507.173642  454570 cuda_dnn.cc:8579] Unable to register cuDNN factory: Attempting to register factory for plugin cuDNN when one has already been registered\n",
            "E0000 00:00:1750779507.180128  454570 cuda_blas.cc:1407] Unable to register cuBLAS factory: Attempting to register factory for plugin cuBLAS when one has already been registered\n",
            "W0000 00:00:1750779507.196774  454570 computation_placer.cc:177] computation placer already registered. Please check linkage and avoid linking the same target more than once.\n",
            "W0000 00:00:1750779507.196787  454570 computation_placer.cc:177] computation placer already registered. Please check linkage and avoid linking the same target more than once.\n",
            "W0000 00:00:1750779507.196789  454570 computation_placer.cc:177] computation placer already registered. Please check linkage and avoid linking the same target more than once.\n",
            "W0000 00:00:1750779507.196790  454570 computation_placer.cc:177] computation placer already registered. Please check linkage and avoid linking the same target more than once.\n",
            "2025-06-24 11:38:27.204918: I tensorflow/core/platform/cpu_feature_guard.cc:210] This TensorFlow binary is optimized to use available CPU instructions in performance-critical operations.\n",
            "To enable the following instructions: AVX2 FMA, in other operations, rebuild TensorFlow with the appropriate compiler flags.\n",
            "/courses/IE7500.202550/shared/conda_env_1/lib/python3.12/site-packages/requests/__init__.py:86: RequestsDependencyWarning: Unable to find acceptable character detection dependency (chardet or charset_normalizer).\n",
            "  warnings.warn(\n"
          ]
        },
        {
          "name": "stdout",
          "output_type": "stream",
          "text": [
            "After disabling: [PhysicalDevice(name='/physical_device:CPU:0', device_type='CPU')]\n"
          ]
        }
      ],
      "source": [
        "import tensorflow as tf\n",
        "\n",
        "# Hide all GPUs at runtime (must be done before anything else in TensorFlow)\n",
        "tf.config.set_visible_devices([], 'GPU')\n",
        "\n",
        "print(\"After disabling:\", tf.config.get_visible_devices())\n"
      ]
    },
    {
      "cell_type": "code",
      "execution_count": null,
      "id": "BQDuL0iGzX7x",
      "metadata": {
        "id": "BQDuL0iGzX7x"
      },
      "outputs": [],
      "source": [
        "# loading all libraries here\n",
        "import numpy as np\n",
        "import pandas as pd\n",
        "import gensim\n",
        "from gensim.utils import simple_preprocess\n",
        "from gensim.models import Word2Vec\n",
        "import nltk\n",
        "from nltk.tokenize import word_tokenize\n",
        "import re\n",
        "from tensorflow.keras.preprocessing.text import Tokenizer\n",
        "from tensorflow.keras.preprocessing.sequence import pad_sequences\n",
        "from tensorflow.keras.models import Sequential\n",
        "from keras.layers import Embedding, Bidirectional, LSTM, Dense, Dropout\n",
        "from keras.callbacks import EarlyStopping\n",
        "from tensorflow.keras.optimizers import Adam\n",
        "from tensorflow.keras.optimizers import Nadam\n",
        "from tensorflow.keras.optimizers import SGD\n",
        "from tensorflow.keras.layers import BatchNormalization\n",
        "from transformers import EarlyStoppingCallback, TrainingArguments, Trainer\n",
        "from sklearn.metrics import ConfusionMatrixDisplay"
      ]
    },
    {
      "cell_type": "code",
      "execution_count": null,
      "id": "VszvLfpt5oKo",
      "metadata": {
        "id": "VszvLfpt5oKo"
      },
      "outputs": [],
      "source": [
        "# we tokenize each tweet for training and testing data\n",
        "\n",
        "training_df = train_df[['text','target']].copy()\n",
        "val_df = val_df[['text','target']].copy()\n",
        "\n",
        "# Apply gensim's tokenizer\n",
        "tokenized_train = training_df['text'].dropna().astype(str).apply(simple_preprocess).tolist()\n",
        "tokenized_val = val_df['text'].dropna().astype(str).apply(simple_preprocess).tolist()"
      ]
    },
    {
      "cell_type": "code",
      "execution_count": null,
      "id": "46vV4tVC0XcW",
      "metadata": {
        "id": "46vV4tVC0XcW"
      },
      "outputs": [],
      "source": [
        "# first train our Word2Vec on the Tokenized Data\n",
        "\n",
        "embedding_dim = 100\n",
        "\n",
        "model_LSTM = Word2Vec(\n",
        "    sentences=tokenized_train,\n",
        "    vector_size=embedding_dim,\n",
        "    window=10,\n",
        "    min_count=2,\n",
        "    sg=1,  # Skip-gram\n",
        "    seed=42,\n",
        "    workers=10\n",
        ")\n",
        "\n",
        "word2vec_model = model_LSTM.wv  # Use KeyedVectors for embedding lookup"
      ]
    },
    {
      "cell_type": "code",
      "execution_count": null,
      "id": "m_TXVm061rnJ",
      "metadata": {
        "id": "m_TXVm061rnJ"
      },
      "outputs": [],
      "source": [
        "# Prepare for Keras Tokenizer\n",
        "\n",
        "# Join tokens back into space-separated strings\n",
        "#tokenized_train_texts = [' '.join(tokens) for tokens in tokenized_train]\n",
        "#tokenized_val_texts = [' '.join(tokens) for tokens in tokenized_val]\n",
        "\n",
        "# Fit tokenizer on training texts\n",
        "#tokenizer = Tokenizer()\n",
        "#tokenizer.fit_on_texts(tokenized_train_texts)\n",
        "\n",
        "#word_index = tokenizer.word_index"
      ]
    },
    {
      "cell_type": "code",
      "execution_count": null,
      "id": "j_NhEY86-4aI",
      "metadata": {
        "id": "j_NhEY86-4aI"
      },
      "outputs": [],
      "source": [
        "# Next, we Build the Embedding Matrix\n",
        "\n",
        "#embedding_matrix = np.zeros((len(word_index) + 1, embedding_dim))\n",
        "#found = 0\n",
        "\n",
        "#for word, i in word_index.items():\n",
        " #   if word in word2vec_model:\n",
        "  #      embedding_matrix[i] = word2vec_model[word]\n",
        "   #     found += 1\n",
        "\n",
        "#print(f\"Words matched: {found}/{len(word_index)}\")"
      ]
    },
    {
      "cell_type": "markdown",
      "id": "c291349f-e04b-43bc-99b3-fdac71643838",
      "metadata": {
        "id": "c291349f-e04b-43bc-99b3-fdac71643838"
      },
      "source": [
        "#### quick debugging insights\n",
        "\n",
        "That means ~74% of tokens in a tweet have no embeddings, the model is learning from almost nothing.\n",
        "\n",
        "Why?\n",
        "Because those tokens likely correspond to words not found in Word2Vec vocabulary. This means our embedding matrix isn't covering the actual tokens used in training."
      ]
    },
    {
      "cell_type": "markdown",
      "id": "164b2d45-8f4b-40cb-8728-2a50a2b8f18b",
      "metadata": {
        "id": "164b2d45-8f4b-40cb-8728-2a50a2b8f18b"
      },
      "source": [
        "This will cause some major issues as we train the model, in fact by several experiments, the model never actually really learned, i could not even make it overfit.\n",
        "This means that likely our Word2Vec trained on clean tokens but Tokenizer worked on noisy ones (e.g., lollll, omggg)\n"
      ]
    },
    {
      "cell_type": "code",
      "execution_count": null,
      "id": "9227fd78-03f5-40a7-95cd-55f0edb67a9d",
      "metadata": {
        "id": "9227fd78-03f5-40a7-95cd-55f0edb67a9d"
      },
      "outputs": [],
      "source": [
        "# for now, i will only limit tokenisation on trained words\n",
        "\n",
        "# Prepare for Keras Tokenizer\n",
        "\n",
        "# Join tokens back into space-separated strings\n",
        "tokenized_train_texts = [' '.join(tokens) for tokens in tokenized_train]\n",
        "tokenized_val_texts = [' '.join(tokens) for tokens in tokenized_val]\n",
        "\n",
        "# Fit tokenizer on training texts\n",
        "tokenizer = Tokenizer(num_words=82014)\n",
        "tokenizer.fit_on_texts(tokenized_train_texts)\n",
        "\n",
        "word_index = tokenizer.word_index"
      ]
    },
    {
      "cell_type": "code",
      "execution_count": null,
      "id": "-7ThBHaM_Pju",
      "metadata": {
        "id": "-7ThBHaM_Pju",
        "outputId": "5e399c69-014e-4444-ee9d-fbfc05880f4f"
      },
      "outputs": [
        {
          "name": "stdout",
          "output_type": "stream",
          "text": [
            "Words matched: 82013/82014\n"
          ]
        }
      ],
      "source": [
        "# Next, we Build the Embedding Matrix\n",
        "\n",
        "embedding_matrix = np.zeros((tokenizer.num_words, embedding_dim))\n",
        "\n",
        "found = 0\n",
        "for word, i in tokenizer.word_index.items():\n",
        "    if i >= tokenizer.num_words:\n",
        "        continue\n",
        "    if word in word2vec_model:\n",
        "        embedding_matrix[i] = word2vec_model[word]\n",
        "        found += 1\n",
        "print(f\"Words matched: {found}/{tokenizer.num_words}\")\n"
      ]
    },
    {
      "cell_type": "code",
      "execution_count": null,
      "id": "162cd974-7132-47d9-875e-3a9190660154",
      "metadata": {
        "id": "162cd974-7132-47d9-875e-3a9190660154"
      },
      "outputs": [],
      "source": [
        "# Next, Convert Texts to Sequences and Pad\n",
        "\n",
        "# Convert text to sequences\n",
        "X_train_seq = tokenizer.texts_to_sequences(tokenized_train_texts)\n",
        "X_val_seq = tokenizer.texts_to_sequences(tokenized_val_texts)\n",
        "\n",
        "# Define max sequence length\n",
        "max_len = max(len(seq) for seq in X_train_seq)\n",
        "\n",
        "# Pad sequences to same length\n",
        "X_train_pad = pad_sequences(X_train_seq, maxlen=max_len, padding='post')\n",
        "X_val_pad = pad_sequences(X_val_seq, maxlen=max_len, padding='post')\n"
      ]
    },
    {
      "cell_type": "code",
      "execution_count": null,
      "id": "2312d2f5-d02f-499c-9b10-e29d860311b2",
      "metadata": {
        "id": "2312d2f5-d02f-499c-9b10-e29d860311b2"
      },
      "outputs": [],
      "source": [
        "# We convert the target to float, and encode 0 and 1 to accommodate for sigmoid:\n",
        "\n",
        "y_train = np.where(y_train == 4, 1.0, 0.0).astype(np.float32)\n",
        "y_val = np.where(y_val == 4, 1.0, 0.0).astype(np.float32)\n"
      ]
    },
    {
      "cell_type": "code",
      "execution_count": null,
      "id": "a8316301-a6a8-47d7-9919-fb7ab68a10b7",
      "metadata": {
        "id": "a8316301-a6a8-47d7-9919-fb7ab68a10b7",
        "outputId": "9c3c895b-8903-4895-cb44-02fadb93783a"
      },
      "outputs": [
        {
          "name": "stdout",
          "output_type": "stream",
          "text": [
            "Epoch 1/20\n"
          ]
        },
        {
          "name": "stderr",
          "output_type": "stream",
          "text": [
            "/courses/IE7500.202550/shared/conda_env_1/lib/python3.12/site-packages/keras/src/layers/core/embedding.py:90: UserWarning: Argument `input_length` is deprecated. Just remove it.\n",
            "  warnings.warn(\n",
            "WARNING: All log messages before absl::InitializeLog() is called are written to STDERR\n",
            "I0000 00:00:1750779739.411284  454754 service.cc:152] XLA service 0x14cfcc00d080 initialized for platform Host (this does not guarantee that XLA will be used). Devices:\n",
            "I0000 00:00:1750779739.411318  454754 service.cc:160]   StreamExecutor device (0): Host, Default Version\n",
            "2025-06-24 11:42:19.477099: I tensorflow/compiler/mlir/tensorflow/utils/dump_mlir_util.cc:269] disabling MLIR crash reproducer, set env var `MLIR_CRASH_REPRODUCER_DIRECTORY` to enable.\n",
            "I0000 00:00:1750779740.570889  454754 device_compiler.h:188] Compiled cluster using XLA!  This line is logged at most once for the lifetime of the process.\n"
          ]
        },
        {
          "name": "stdout",
          "output_type": "stream",
          "text": [
            "10/10 - 4s - 387ms/step - accuracy: 0.5700 - loss: 0.6789\n",
            "Epoch 2/20\n",
            "10/10 - 0s - 33ms/step - accuracy: 0.6000 - loss: 0.6373\n",
            "Epoch 3/20\n",
            "10/10 - 0s - 34ms/step - accuracy: 0.7100 - loss: 0.5797\n",
            "Epoch 4/20\n",
            "10/10 - 0s - 33ms/step - accuracy: 0.8100 - loss: 0.4574\n",
            "Epoch 5/20\n",
            "10/10 - 0s - 34ms/step - accuracy: 0.8600 - loss: 0.3456\n",
            "Epoch 6/20\n",
            "10/10 - 0s - 33ms/step - accuracy: 0.9200 - loss: 0.2271\n",
            "Epoch 7/20\n",
            "10/10 - 0s - 33ms/step - accuracy: 0.9600 - loss: 0.1301\n",
            "Epoch 8/20\n",
            "10/10 - 0s - 33ms/step - accuracy: 0.9800 - loss: 0.0700\n",
            "Epoch 9/20\n",
            "10/10 - 0s - 33ms/step - accuracy: 0.9900 - loss: 0.0453\n",
            "Epoch 10/20\n",
            "10/10 - 0s - 33ms/step - accuracy: 0.9900 - loss: 0.0352\n",
            "Epoch 11/20\n",
            "10/10 - 0s - 33ms/step - accuracy: 0.9700 - loss: 0.0691\n",
            "Epoch 12/20\n",
            "10/10 - 0s - 34ms/step - accuracy: 0.8900 - loss: 0.2512\n",
            "Epoch 13/20\n",
            "10/10 - 0s - 33ms/step - accuracy: 0.9800 - loss: 0.1243\n",
            "Epoch 14/20\n",
            "10/10 - 0s - 33ms/step - accuracy: 0.9600 - loss: 0.1575\n",
            "Epoch 15/20\n",
            "10/10 - 0s - 33ms/step - accuracy: 0.9700 - loss: 0.0877\n",
            "Epoch 16/20\n",
            "10/10 - 0s - 33ms/step - accuracy: 0.9900 - loss: 0.0404\n",
            "Epoch 17/20\n",
            "10/10 - 0s - 33ms/step - accuracy: 1.0000 - loss: 0.0326\n",
            "Epoch 18/20\n",
            "10/10 - 0s - 33ms/step - accuracy: 1.0000 - loss: 0.0214\n",
            "Epoch 19/20\n",
            "10/10 - 0s - 33ms/step - accuracy: 1.0000 - loss: 0.0147\n",
            "Epoch 20/20\n",
            "10/10 - 0s - 35ms/step - accuracy: 1.0000 - loss: 0.0114\n"
          ]
        }
      ],
      "source": [
        "# First, we reduce our model to a small Sanity Test\n",
        "\n",
        "# Use a very small subset to test if model can overfit\n",
        "X_small = X_train_pad[:100]\n",
        "y_small = y_train[:100]\n",
        "\n",
        "# Sanity check: Create a simple model\n",
        "model = Sequential()\n",
        "model.add(Embedding(\n",
        "    input_dim=embedding_matrix.shape[0],\n",
        "    output_dim=embedding_matrix.shape[1],\n",
        "    weights=[embedding_matrix],\n",
        "    input_length=X_small.shape[1],\n",
        "    trainable=True\n",
        "))\n",
        "model.add(Bidirectional(LSTM(64)))\n",
        "model.add(Dense(1, activation='sigmoid'))\n",
        "\n",
        "# Compile\n",
        "model.compile(loss='binary_crossentropy', optimizer=Adam(learning_rate=0.001), metrics=['accuracy'])\n",
        "\n",
        "# Fit to a small subset to test if it can overfit\n",
        "history = model.fit(X_small, y_small, epochs=20, batch_size=10, verbose=2)"
      ]
    },
    {
      "cell_type": "code",
      "execution_count": null,
      "id": "fabbac0f-7326-4dac-af1d-61e59fd8eff5",
      "metadata": {
        "id": "fabbac0f-7326-4dac-af1d-61e59fd8eff5",
        "outputId": "69f0e05f-dbd8-4ebb-ae8d-bf9a17a89a4f"
      },
      "outputs": [
        {
          "data": {
            "text/html": [
              "<pre style=\"white-space:pre;overflow-x:auto;line-height:normal;font-family:Menlo,'DejaVu Sans Mono',consolas,'Courier New',monospace\"><span style=\"font-weight: bold\">Model: \"sequential_1\"</span>\n",
              "</pre>\n"
            ],
            "text/plain": [
              "\u001b[1mModel: \"sequential_1\"\u001b[0m\n"
            ]
          },
          "metadata": {},
          "output_type": "display_data"
        },
        {
          "data": {
            "text/html": [
              "<pre style=\"white-space:pre;overflow-x:auto;line-height:normal;font-family:Menlo,'DejaVu Sans Mono',consolas,'Courier New',monospace\">┏━━━━━━━━━━━━━━━━━━━━━━━━━━━━━━━━━┳━━━━━━━━━━━━━━━━━━━━━━━━┳━━━━━━━━━━━━━━━┓\n",
              "┃<span style=\"font-weight: bold\"> Layer (type)                    </span>┃<span style=\"font-weight: bold\"> Output Shape           </span>┃<span style=\"font-weight: bold\">       Param # </span>┃\n",
              "┡━━━━━━━━━━━━━━━━━━━━━━━━━━━━━━━━━╇━━━━━━━━━━━━━━━━━━━━━━━━╇━━━━━━━━━━━━━━━┩\n",
              "│ embedding_1 (<span style=\"color: #0087ff; text-decoration-color: #0087ff\">Embedding</span>)         │ ?                      │     <span style=\"color: #00af00; text-decoration-color: #00af00\">8,201,400</span> │\n",
              "├─────────────────────────────────┼────────────────────────┼───────────────┤\n",
              "│ bidirectional_1 (<span style=\"color: #0087ff; text-decoration-color: #0087ff\">Bidirectional</span>) │ ?                      │   <span style=\"color: #00af00; text-decoration-color: #00af00\">0</span> (unbuilt) │\n",
              "├─────────────────────────────────┼────────────────────────┼───────────────┤\n",
              "│ dropout (<span style=\"color: #0087ff; text-decoration-color: #0087ff\">Dropout</span>)               │ ?                      │             <span style=\"color: #00af00; text-decoration-color: #00af00\">0</span> │\n",
              "├─────────────────────────────────┼────────────────────────┼───────────────┤\n",
              "│ bidirectional_2 (<span style=\"color: #0087ff; text-decoration-color: #0087ff\">Bidirectional</span>) │ ?                      │   <span style=\"color: #00af00; text-decoration-color: #00af00\">0</span> (unbuilt) │\n",
              "├─────────────────────────────────┼────────────────────────┼───────────────┤\n",
              "│ dropout_1 (<span style=\"color: #0087ff; text-decoration-color: #0087ff\">Dropout</span>)             │ ?                      │             <span style=\"color: #00af00; text-decoration-color: #00af00\">0</span> │\n",
              "├─────────────────────────────────┼────────────────────────┼───────────────┤\n",
              "│ dense_1 (<span style=\"color: #0087ff; text-decoration-color: #0087ff\">Dense</span>)                 │ ?                      │   <span style=\"color: #00af00; text-decoration-color: #00af00\">0</span> (unbuilt) │\n",
              "└─────────────────────────────────┴────────────────────────┴───────────────┘\n",
              "</pre>\n"
            ],
            "text/plain": [
              "┏━━━━━━━━━━━━━━━━━━━━━━━━━━━━━━━━━┳━━━━━━━━━━━━━━━━━━━━━━━━┳━━━━━━━━━━━━━━━┓\n",
              "┃\u001b[1m \u001b[0m\u001b[1mLayer (type)                   \u001b[0m\u001b[1m \u001b[0m┃\u001b[1m \u001b[0m\u001b[1mOutput Shape          \u001b[0m\u001b[1m \u001b[0m┃\u001b[1m \u001b[0m\u001b[1m      Param #\u001b[0m\u001b[1m \u001b[0m┃\n",
              "┡━━━━━━━━━━━━━━━━━━━━━━━━━━━━━━━━━╇━━━━━━━━━━━━━━━━━━━━━━━━╇━━━━━━━━━━━━━━━┩\n",
              "│ embedding_1 (\u001b[38;5;33mEmbedding\u001b[0m)         │ ?                      │     \u001b[38;5;34m8,201,400\u001b[0m │\n",
              "├─────────────────────────────────┼────────────────────────┼───────────────┤\n",
              "│ bidirectional_1 (\u001b[38;5;33mBidirectional\u001b[0m) │ ?                      │   \u001b[38;5;34m0\u001b[0m (unbuilt) │\n",
              "├─────────────────────────────────┼────────────────────────┼───────────────┤\n",
              "│ dropout (\u001b[38;5;33mDropout\u001b[0m)               │ ?                      │             \u001b[38;5;34m0\u001b[0m │\n",
              "├─────────────────────────────────┼────────────────────────┼───────────────┤\n",
              "│ bidirectional_2 (\u001b[38;5;33mBidirectional\u001b[0m) │ ?                      │   \u001b[38;5;34m0\u001b[0m (unbuilt) │\n",
              "├─────────────────────────────────┼────────────────────────┼───────────────┤\n",
              "│ dropout_1 (\u001b[38;5;33mDropout\u001b[0m)             │ ?                      │             \u001b[38;5;34m0\u001b[0m │\n",
              "├─────────────────────────────────┼────────────────────────┼───────────────┤\n",
              "│ dense_1 (\u001b[38;5;33mDense\u001b[0m)                 │ ?                      │   \u001b[38;5;34m0\u001b[0m (unbuilt) │\n",
              "└─────────────────────────────────┴────────────────────────┴───────────────┘\n"
            ]
          },
          "metadata": {},
          "output_type": "display_data"
        },
        {
          "data": {
            "text/html": [
              "<pre style=\"white-space:pre;overflow-x:auto;line-height:normal;font-family:Menlo,'DejaVu Sans Mono',consolas,'Courier New',monospace\"><span style=\"font-weight: bold\"> Total params: </span><span style=\"color: #00af00; text-decoration-color: #00af00\">8,201,400</span> (31.29 MB)\n",
              "</pre>\n"
            ],
            "text/plain": [
              "\u001b[1m Total params: \u001b[0m\u001b[38;5;34m8,201,400\u001b[0m (31.29 MB)\n"
            ]
          },
          "metadata": {},
          "output_type": "display_data"
        },
        {
          "data": {
            "text/html": [
              "<pre style=\"white-space:pre;overflow-x:auto;line-height:normal;font-family:Menlo,'DejaVu Sans Mono',consolas,'Courier New',monospace\"><span style=\"font-weight: bold\"> Trainable params: </span><span style=\"color: #00af00; text-decoration-color: #00af00\">0</span> (0.00 B)\n",
              "</pre>\n"
            ],
            "text/plain": [
              "\u001b[1m Trainable params: \u001b[0m\u001b[38;5;34m0\u001b[0m (0.00 B)\n"
            ]
          },
          "metadata": {},
          "output_type": "display_data"
        },
        {
          "data": {
            "text/html": [
              "<pre style=\"white-space:pre;overflow-x:auto;line-height:normal;font-family:Menlo,'DejaVu Sans Mono',consolas,'Courier New',monospace\"><span style=\"font-weight: bold\"> Non-trainable params: </span><span style=\"color: #00af00; text-decoration-color: #00af00\">8,201,400</span> (31.29 MB)\n",
              "</pre>\n"
            ],
            "text/plain": [
              "\u001b[1m Non-trainable params: \u001b[0m\u001b[38;5;34m8,201,400\u001b[0m (31.29 MB)\n"
            ]
          },
          "metadata": {},
          "output_type": "display_data"
        }
      ],
      "source": [
        "# Now, we build our model\n",
        "\n",
        "# Define model\n",
        "LSTMmodel = Sequential()\n",
        "\n",
        "# 1. Embedding layer\n",
        "LSTMmodel.add(Embedding(\n",
        "    input_dim=embedding_matrix.shape[0],\n",
        "    output_dim=embedding_matrix.shape[1],\n",
        "    weights=[embedding_matrix],\n",
        "    input_length=max_len,\n",
        "    trainable=False\n",
        "))\n",
        "\n",
        "# 2. First LSTM\n",
        "LSTMmodel.add(Bidirectional(LSTM(265, return_sequences=True)))\n",
        "\n",
        "LSTMmodel.add(Dropout(0.5))\n",
        "\n",
        "# 3. Second LSTM\n",
        "LSTMmodel.add(Bidirectional(LSTM(128)))\n",
        "\n",
        "# 4. Dropout\n",
        "LSTMmodel.add(Dropout(0.3))\n",
        "\n",
        "# 5. Output\n",
        "LSTMmodel.add(Dense(1, activation='sigmoid'))\n",
        "\n",
        "# Compile\n",
        "optimizer = Nadam(learning_rate=0.001)\n",
        "LSTMmodel.compile(loss='binary_crossentropy', optimizer=optimizer, metrics=['accuracy'])\n",
        "\n",
        "# Show summary\n",
        "LSTMmodel.summary()"
      ]
    },
    {
      "cell_type": "code",
      "execution_count": null,
      "id": "34ea73bb-bc43-4933-b1ec-9856ed807ced",
      "metadata": {
        "id": "34ea73bb-bc43-4933-b1ec-9856ed807ced",
        "outputId": "f0b0dbbd-eca5-4ae6-de3e-7ac0ec59f750"
      },
      "outputs": [
        {
          "name": "stdout",
          "output_type": "stream",
          "text": [
            "Epoch 1/20\n",
            "\u001b[1m1873/1873\u001b[0m \u001b[32m━━━━━━━━━━━━━━━━━━━━\u001b[0m\u001b[37m\u001b[0m \u001b[1m1145s\u001b[0m 608ms/step - accuracy: 0.7725 - loss: 0.4731 - val_accuracy: 0.7906 - val_loss: 0.4512\n",
            "Epoch 2/20\n",
            "\u001b[1m1873/1873\u001b[0m \u001b[32m━━━━━━━━━━━━━━━━━━━━\u001b[0m\u001b[37m\u001b[0m \u001b[1m1139s\u001b[0m 608ms/step - accuracy: 0.7983 - loss: 0.4330 - val_accuracy: 0.8018 - val_loss: 0.4264\n",
            "Epoch 3/20\n",
            "\u001b[1m1873/1873\u001b[0m \u001b[32m━━━━━━━━━━━━━━━━━━━━\u001b[0m\u001b[37m\u001b[0m \u001b[1m1137s\u001b[0m 607ms/step - accuracy: 0.8052 - loss: 0.4213 - val_accuracy: 0.8051 - val_loss: 0.4211\n",
            "Epoch 4/20\n",
            "\u001b[1m1873/1873\u001b[0m \u001b[32m━━━━━━━━━━━━━━━━━━━━\u001b[0m\u001b[37m\u001b[0m \u001b[1m1137s\u001b[0m 607ms/step - accuracy: 0.8104 - loss: 0.4127 - val_accuracy: 0.8070 - val_loss: 0.4157\n",
            "Epoch 5/20\n",
            "\u001b[1m1873/1873\u001b[0m \u001b[32m━━━━━━━━━━━━━━━━━━━━\u001b[0m\u001b[37m\u001b[0m \u001b[1m1137s\u001b[0m 607ms/step - accuracy: 0.8145 - loss: 0.4052 - val_accuracy: 0.8057 - val_loss: 0.4201\n",
            "Epoch 6/20\n",
            "\u001b[1m1873/1873\u001b[0m \u001b[32m━━━━━━━━━━━━━━━━━━━━\u001b[0m\u001b[37m\u001b[0m \u001b[1m1137s\u001b[0m 607ms/step - accuracy: 0.8180 - loss: 0.3990 - val_accuracy: 0.8105 - val_loss: 0.4105\n",
            "Epoch 7/20\n",
            "\u001b[1m1873/1873\u001b[0m \u001b[32m━━━━━━━━━━━━━━━━━━━━\u001b[0m\u001b[37m\u001b[0m \u001b[1m1137s\u001b[0m 607ms/step - accuracy: 0.8215 - loss: 0.3914 - val_accuracy: 0.8119 - val_loss: 0.4096\n",
            "Epoch 8/20\n",
            "\u001b[1m1873/1873\u001b[0m \u001b[32m━━━━━━━━━━━━━━━━━━━━\u001b[0m\u001b[37m\u001b[0m \u001b[1m1137s\u001b[0m 607ms/step - accuracy: 0.8263 - loss: 0.3832 - val_accuracy: 0.8118 - val_loss: 0.4104\n",
            "Epoch 9/20\n",
            "\u001b[1m1873/1873\u001b[0m \u001b[32m━━━━━━━━━━━━━━━━━━━━\u001b[0m\u001b[37m\u001b[0m \u001b[1m1136s\u001b[0m 607ms/step - accuracy: 0.8315 - loss: 0.3739 - val_accuracy: 0.8121 - val_loss: 0.4124\n"
          ]
        },
        {
          "data": {
            "image/png": "[encoded data removed]",
            "text/plain": [
              "<Figure size 640x480 with 1 Axes>"
            ]
          },
          "metadata": {},
          "output_type": "display_data"
        },
        {
          "name": "stdout",
          "output_type": "stream",
          "text": [
            "\u001b[1m6270/6270\u001b[0m \u001b[32m━━━━━━━━━━━━━━━━━━━━\u001b[0m\u001b[37m\u001b[0m \u001b[1m347s\u001b[0m 55ms/step\n"
          ]
        },
        {
          "name": "stderr",
          "output_type": "stream",
          "text": [
            "/courses/IE7500.202550/shared/conda_env_1/lib/python3.12/site-packages/sklearn/metrics/_classification.py:1565: UndefinedMetricWarning: Precision is ill-defined and being set to 0.0 due to no predicted samples. Use `zero_division` parameter to control this behavior.\n",
            "  _warn_prf(average, modifier, f\"{metric.capitalize()} is\", len(result))\n"
          ]
        },
        {
          "name": "stdout",
          "output_type": "stream",
          "text": [
            "\n",
            "--- Validation Performance (LSTM) ---\n",
            "Accuracy:  0.4020\n",
            "Precision: 0.0000\n",
            "Recall:    0.0000\n",
            "F1 Score:  0.0000\n"
          ]
        },
        {
          "ename": "NameError",
          "evalue": "name 'ConfusionMatrixDisplay' is not defined",
          "output_type": "error",
          "traceback": [
            "\u001b[0;31m---------------------------------------------------------------------------\u001b[0m",
            "\u001b[0;31mNameError\u001b[0m                                 Traceback (most recent call last)",
            "\u001b[0;32m/tmp/ipykernel_454570/3868953649.py\u001b[0m in \u001b[0;36m<module>\u001b[0;34m\u001b[0m\n\u001b[1;32m     46\u001b[0m \u001b[0;31m# Confusion matrix\u001b[0m\u001b[0;34m\u001b[0m\u001b[0;34m\u001b[0m\u001b[0m\n\u001b[1;32m     47\u001b[0m \u001b[0mcm\u001b[0m \u001b[0;34m=\u001b[0m \u001b[0mconfusion_matrix\u001b[0m\u001b[0;34m(\u001b[0m\u001b[0my_val\u001b[0m\u001b[0;34m,\u001b[0m \u001b[0my_val_pred\u001b[0m\u001b[0;34m)\u001b[0m\u001b[0;34m\u001b[0m\u001b[0;34m\u001b[0m\u001b[0m\n\u001b[0;32m---> 48\u001b[0;31m \u001b[0mConfusionMatrixDisplay\u001b[0m\u001b[0;34m(\u001b[0m\u001b[0mcm\u001b[0m\u001b[0;34m,\u001b[0m \u001b[0mdisplay_labels\u001b[0m\u001b[0;34m=\u001b[0m\u001b[0;34m[\u001b[0m\u001b[0;34m\"Negative\"\u001b[0m\u001b[0;34m,\u001b[0m \u001b[0;34m\"Positive\"\u001b[0m\u001b[0;34m]\u001b[0m\u001b[0;34m)\u001b[0m\u001b[0;34m.\u001b[0m\u001b[0mplot\u001b[0m\u001b[0;34m(\u001b[0m\u001b[0mcmap\u001b[0m\u001b[0;34m=\u001b[0m\u001b[0;34m\"Blues\"\u001b[0m\u001b[0;34m)\u001b[0m\u001b[0;34m\u001b[0m\u001b[0;34m\u001b[0m\u001b[0m\n\u001b[0m\u001b[1;32m     49\u001b[0m \u001b[0mplt\u001b[0m\u001b[0;34m.\u001b[0m\u001b[0mtitle\u001b[0m\u001b[0;34m(\u001b[0m\u001b[0;34m\"Validation Confusion Matrix\"\u001b[0m\u001b[0;34m)\u001b[0m\u001b[0;34m\u001b[0m\u001b[0;34m\u001b[0m\u001b[0m\n\u001b[1;32m     50\u001b[0m \u001b[0mplt\u001b[0m\u001b[0;34m.\u001b[0m\u001b[0mgrid\u001b[0m\u001b[0;34m(\u001b[0m\u001b[0;32mFalse\u001b[0m\u001b[0;34m)\u001b[0m\u001b[0;34m\u001b[0m\u001b[0;34m\u001b[0m\u001b[0m\n",
            "\u001b[0;31mNameError\u001b[0m: name 'ConfusionMatrixDisplay' is not defined"
          ]
        }
      ],
      "source": [
        "# Next we train our model, and then visualize performance\n",
        "\n",
        "early_stop = EarlyStopping(monitor='val_loss', patience=2, restore_best_weights=True)\n",
        "\n",
        "history = LSTMmodel.fit(\n",
        "    X_train_pad, y_train,\n",
        "    validation_data=(X_val_pad, y_val),\n",
        "    epochs=20,\n",
        "    batch_size=500,\n",
        "    callbacks=[early_stop]\n",
        ")\n",
        "\n",
        "# Save the model and download\n",
        "LSTMmodel.save(\"sentiment_lstm_model.keras\")\n",
        "\n",
        "# Plot training history\n",
        "plt.plot(history.history['accuracy'], label='Train Accuracy')\n",
        "plt.plot(history.history['val_accuracy'], label='Validation Accuracy')\n",
        "plt.plot(history.history['loss'], label='Train Loss')\n",
        "plt.plot(history.history['val_loss'], label='Validation Loss')\n",
        "plt.xlabel('Epoch')\n",
        "plt.ylabel('Value')\n",
        "plt.title('Training History')\n",
        "plt.legend()\n",
        "plt.grid(True)\n",
        "plt.show()\n",
        "\n",
        "\n",
        "# Predict class labels from probabilities\n",
        "y_val_pred_probs = LSTMmodel.predict(X_val_pad)\n",
        "y_val_pred = np.argmax(y_val_pred_probs, axis=1)\n",
        "\n",
        "# Compute metrics\n",
        "acc = accuracy_score(y_val, y_val_pred)\n",
        "prec = precision_score(y_val, y_val_pred)\n",
        "rec = recall_score(y_val, y_val_pred)\n",
        "f1 = f1_score(y_val, y_val_pred)\n",
        "\n",
        "# Print results\n",
        "print(\"\\n--- Validation Performance (LSTM) ---\")\n",
        "print(f\"Accuracy:  {acc:.4f}\")\n",
        "print(f\"Precision: {prec:.4f}\")\n",
        "print(f\"Recall:    {rec:.4f}\")\n",
        "print(f\"F1 Score:  {f1:.4f}\")\n",
        "\n",
        "# Confusion matrix\n",
        "cm = confusion_matrix(y_val, y_val_pred)\n",
        "ConfusionMatrixDisplay(cm, display_labels=[\"Negative\", \"Positive\"]).plot(cmap=\"Blues\")\n",
        "plt.title(\"Validation Confusion Matrix\")\n",
        "plt.grid(False)\n",
        "plt.show()"
      ]
    },
    {
      "cell_type": "markdown",
      "id": "42a09612-3089-468d-99a3-c4a97b9b3fa9",
      "metadata": {
        "id": "42a09612-3089-468d-99a3-c4a97b9b3fa9"
      },
      "source": [
        "______________________________________________________________________________________________________________________________"
      ]
    },
    {
      "cell_type": "code",
      "execution_count": null,
      "id": "GNlc4i-RAIaF",
      "metadata": {
        "id": "GNlc4i-RAIaF",
        "outputId": "d6668b98-267f-4f02-c2eb-2674b7d31e46"
      },
      "outputs": [
        {
          "name": "stdout",
          "output_type": "stream",
          "text": [
            "\n",
            "--- Validation Performance (LSTM) ---\n",
            "Accuracy:  0.4020\n",
            "Precision: 0.0000\n",
            "Recall:    0.0000\n",
            "F1 Score:  0.0000\n"
          ]
        },
        {
          "data": {
            "image/png": "[encoded data removed]",
            "text/plain": [
              "<Figure size 640x480 with 2 Axes>"
            ]
          },
          "metadata": {},
          "output_type": "display_data"
        }
      ],
      "source": [
        "# Compute metrics with zero_division handling\n",
        "acc = accuracy_score(y_val, y_val_pred)\n",
        "prec = precision_score(y_val, y_val_pred, zero_division=0)\n",
        "rec = recall_score(y_val, y_val_pred, zero_division=0)\n",
        "f1 = f1_score(y_val, y_val_pred, zero_division=0)\n",
        "\n",
        "# Print results\n",
        "print(\"\\n--- Validation Performance (LSTM) ---\")\n",
        "print(f\"Accuracy:  {acc:.4f}\")\n",
        "print(f\"Precision: {prec:.4f}\")\n",
        "print(f\"Recall:    {rec:.4f}\")\n",
        "print(f\"F1 Score:  {f1:.4f}\")\n",
        "\n",
        "# Confusion matrix\n",
        "cm = confusion_matrix(y_val, y_val_pred)\n",
        "ConfusionMatrixDisplay(confusion_matrix=cm, display_labels=[\"Negative\", \"Positive\"]).plot(cmap=\"Blues\")\n",
        "plt.title(\"Validation Confusion Matrix\")\n",
        "plt.grid(False)\n",
        "plt.show()"
      ]
    },
    {
      "cell_type": "code",
      "execution_count": null,
      "id": "da455520-5e03-4424-9bda-b36e17eb643e",
      "metadata": {
        "id": "da455520-5e03-4424-9bda-b36e17eb643e"
      },
      "outputs": [],
      "source": []
    },
    {
      "cell_type": "markdown",
      "id": "aabdf2dd-b6d2-4007-923c-f7825eba8057",
      "metadata": {
        "id": "aabdf2dd-b6d2-4007-923c-f7825eba8057"
      },
      "source": [
        "\n",
        "<div style=\"background-color:#e6f2ff; border-left:8px solid #0059b3; padding:20px; margin:20px 0;\">\n",
        "  <h2 style=\"color:#003366;\"><strong>4.3 BERT Model</strong></h2>\n",
        "  <p style=\"color:#333333;\">Fine-tuning DistilBERT or similar transformer model (if feasible).</p>\n",
        "</div>\n"
      ]
    },
    {
      "cell_type": "code",
      "execution_count": null,
      "id": "f6c94bb9-609c-486b-8f8b-65b4639e6aa1",
      "metadata": {
        "id": "f6c94bb9-609c-486b-8f8b-65b4639e6aa1"
      },
      "outputs": [],
      "source": [
        "# Install Hugging Face Transformers\n",
        "!pip install transformers datasets -q"
      ]
    },
    {
      "cell_type": "code",
      "execution_count": null,
      "id": "8a93539e-953f-4fc9-815e-d1fed9a40a59",
      "metadata": {
        "id": "8a93539e-953f-4fc9-815e-d1fed9a40a59",
        "outputId": "ec0f3139-6dfb-4c28-c31e-c5c5ed1bbaac"
      },
      "outputs": [
        {
          "name": "stdout",
          "output_type": "stream",
          "text": [
            "Defaulting to user installation because normal site-packages is not writeable\n",
            "Requirement already satisfied: transformers in /home/albahri.m/.local/lib/python3.12/site-packages (4.52.4)\n",
            "Requirement already satisfied: filelock in /courses/IE7500.202550/shared/conda_env_1/lib/python3.12/site-packages (from transformers) (3.18.0)\n",
            "Requirement already satisfied: huggingface-hub<1.0,>=0.30.0 in /courses/IE7500.202550/shared/conda_env_1/lib/python3.12/site-packages (from transformers) (0.32.2)\n",
            "Requirement already satisfied: numpy>=1.17 in /courses/IE7500.202550/shared/conda_env_1/lib/python3.12/site-packages (from transformers) (1.26.4)\n",
            "Requirement already satisfied: packaging>=20.0 in /courses/IE7500.202550/shared/conda_env_1/lib/python3.12/site-packages (from transformers) (24.2)\n",
            "Requirement already satisfied: pyyaml>=5.1 in /courses/IE7500.202550/shared/conda_env_1/lib/python3.12/site-packages (from transformers) (6.0.2)\n",
            "Requirement already satisfied: regex!=2019.12.17 in /courses/IE7500.202550/shared/conda_env_1/lib/python3.12/site-packages (from transformers) (2024.11.6)\n",
            "Requirement already satisfied: requests in /courses/IE7500.202550/shared/conda_env_1/lib/python3.12/site-packages (from transformers) (2.32.3)\n",
            "Requirement already satisfied: tokenizers<0.22,>=0.21 in /courses/IE7500.202550/shared/conda_env_1/lib/python3.12/site-packages (from transformers) (0.21.1)\n",
            "Requirement already satisfied: safetensors>=0.4.3 in /courses/IE7500.202550/shared/conda_env_1/lib/python3.12/site-packages (from transformers) (0.5.3)\n",
            "Requirement already satisfied: tqdm>=4.27 in /courses/IE7500.202550/shared/conda_env_1/lib/python3.12/site-packages (from transformers) (4.67.1)\n",
            "Requirement already satisfied: fsspec>=2023.5.0 in /courses/IE7500.202550/shared/conda_env_1/lib/python3.12/site-packages (from huggingface-hub<1.0,>=0.30.0->transformers) (2025.3.0)\n",
            "Requirement already satisfied: typing-extensions>=3.7.4.3 in /courses/IE7500.202550/shared/conda_env_1/lib/python3.12/site-packages (from huggingface-hub<1.0,>=0.30.0->transformers) (4.13.2)\n",
            "Requirement already satisfied: hf-xet<2.0.0,>=1.1.2 in /courses/IE7500.202550/shared/conda_env_1/lib/python3.12/site-packages (from huggingface-hub<1.0,>=0.30.0->transformers) (1.1.2)\n",
            "Requirement already satisfied: charset-normalizer<4,>=2 in /courses/IE7500.202550/shared/conda_env_1/lib/python3.12/site-packages (from requests->transformers) (3.3.2)\n",
            "Requirement already satisfied: idna<4,>=2.5 in /courses/IE7500.202550/shared/conda_env_1/lib/python3.12/site-packages (from requests->transformers) (3.10)\n",
            "Requirement already satisfied: urllib3<3,>=1.21.1 in /courses/IE7500.202550/shared/conda_env_1/lib/python3.12/site-packages (from requests->transformers) (2.3.0)\n",
            "Requirement already satisfied: certifi>=2017.4.17 in /courses/IE7500.202550/shared/conda_env_1/lib/python3.12/site-packages (from requests->transformers) (2025.4.26)\n"
          ]
        }
      ],
      "source": [
        "!pip install --upgrade transformers"
      ]
    },
    {
      "cell_type": "code",
      "execution_count": null,
      "id": "ca01e50d-51a1-4ba5-bd56-13275178ee60",
      "metadata": {
        "id": "ca01e50d-51a1-4ba5-bd56-13275178ee60",
        "outputId": "b7c73cfa-0f64-49e8-b998-a52cfbb8593c"
      },
      "outputs": [
        {
          "name": "stdout",
          "output_type": "stream",
          "text": [
            "Defaulting to user installation because normal site-packages is not writeable\n",
            "Requirement already satisfied: accelerate in /home/albahri.m/.local/lib/python3.12/site-packages (1.8.1)\n",
            "Requirement already satisfied: numpy<3.0.0,>=1.17 in /courses/IE7500.202550/shared/conda_env_1/lib/python3.12/site-packages (from accelerate) (1.26.4)\n",
            "Requirement already satisfied: packaging>=20.0 in /courses/IE7500.202550/shared/conda_env_1/lib/python3.12/site-packages (from accelerate) (24.2)\n",
            "Requirement already satisfied: psutil in /courses/IE7500.202550/shared/conda_env_1/lib/python3.12/site-packages (from accelerate) (5.9.0)\n",
            "Requirement already satisfied: pyyaml in /courses/IE7500.202550/shared/conda_env_1/lib/python3.12/site-packages (from accelerate) (6.0.2)\n",
            "Requirement already satisfied: torch>=2.0.0 in /courses/IE7500.202550/shared/conda_env_1/lib/python3.12/site-packages (from accelerate) (2.5.1)\n",
            "Requirement already satisfied: huggingface_hub>=0.21.0 in /courses/IE7500.202550/shared/conda_env_1/lib/python3.12/site-packages (from accelerate) (0.32.2)\n",
            "Requirement already satisfied: safetensors>=0.4.3 in /courses/IE7500.202550/shared/conda_env_1/lib/python3.12/site-packages (from accelerate) (0.5.3)\n",
            "Requirement already satisfied: filelock in /courses/IE7500.202550/shared/conda_env_1/lib/python3.12/site-packages (from huggingface_hub>=0.21.0->accelerate) (3.18.0)\n",
            "Requirement already satisfied: fsspec>=2023.5.0 in /courses/IE7500.202550/shared/conda_env_1/lib/python3.12/site-packages (from huggingface_hub>=0.21.0->accelerate) (2025.3.0)\n",
            "Requirement already satisfied: requests in /courses/IE7500.202550/shared/conda_env_1/lib/python3.12/site-packages (from huggingface_hub>=0.21.0->accelerate) (2.32.3)\n",
            "Requirement already satisfied: tqdm>=4.42.1 in /courses/IE7500.202550/shared/conda_env_1/lib/python3.12/site-packages (from huggingface_hub>=0.21.0->accelerate) (4.67.1)\n",
            "Requirement already satisfied: typing-extensions>=3.7.4.3 in /courses/IE7500.202550/shared/conda_env_1/lib/python3.12/site-packages (from huggingface_hub>=0.21.0->accelerate) (4.13.2)\n",
            "Requirement already satisfied: hf-xet<2.0.0,>=1.1.2 in /courses/IE7500.202550/shared/conda_env_1/lib/python3.12/site-packages (from huggingface_hub>=0.21.0->accelerate) (1.1.2)\n",
            "Requirement already satisfied: setuptools in /courses/IE7500.202550/shared/conda_env_1/lib/python3.12/site-packages (from torch>=2.0.0->accelerate) (75.6.0)\n",
            "Requirement already satisfied: sympy==1.13.1 in /home/albahri.m/.local/lib/python3.12/site-packages (from torch>=2.0.0->accelerate) (1.13.1)\n",
            "Requirement already satisfied: networkx in /courses/IE7500.202550/shared/conda_env_1/lib/python3.12/site-packages (from torch>=2.0.0->accelerate) (3.4.2)\n",
            "Requirement already satisfied: jinja2 in /courses/IE7500.202550/shared/conda_env_1/lib/python3.12/site-packages (from torch>=2.0.0->accelerate) (3.1.6)\n",
            "Requirement already satisfied: mpmath<1.4,>=1.1.0 in /courses/IE7500.202550/shared/conda_env_1/lib/python3.12/site-packages (from sympy==1.13.1->torch>=2.0.0->accelerate) (1.3.0)\n",
            "Requirement already satisfied: MarkupSafe>=2.0 in /courses/IE7500.202550/shared/conda_env_1/lib/python3.12/site-packages (from jinja2->torch>=2.0.0->accelerate) (3.0.2)\n",
            "Requirement already satisfied: charset-normalizer<4,>=2 in /courses/IE7500.202550/shared/conda_env_1/lib/python3.12/site-packages (from requests->huggingface_hub>=0.21.0->accelerate) (3.3.2)\n",
            "Requirement already satisfied: idna<4,>=2.5 in /courses/IE7500.202550/shared/conda_env_1/lib/python3.12/site-packages (from requests->huggingface_hub>=0.21.0->accelerate) (3.10)\n",
            "Requirement already satisfied: urllib3<3,>=1.21.1 in /courses/IE7500.202550/shared/conda_env_1/lib/python3.12/site-packages (from requests->huggingface_hub>=0.21.0->accelerate) (2.3.0)\n",
            "Requirement already satisfied: certifi>=2017.4.17 in /courses/IE7500.202550/shared/conda_env_1/lib/python3.12/site-packages (from requests->huggingface_hub>=0.21.0->accelerate) (2025.4.26)\n"
          ]
        }
      ],
      "source": [
        "!pip install -U accelerate"
      ]
    },
    {
      "cell_type": "code",
      "execution_count": null,
      "id": "a2f01477-bebd-446a-97ac-a759719d5407",
      "metadata": {
        "id": "a2f01477-bebd-446a-97ac-a759719d5407",
        "outputId": "32030c77-70a0-45c8-f56c-b6e8def60907"
      },
      "outputs": [
        {
          "name": "stdout",
          "output_type": "stream",
          "text": [
            "Defaulting to user installation because normal site-packages is not writeable\n",
            "Requirement already satisfied: transformers in /home/albahri.m/.local/lib/python3.12/site-packages (4.52.4)\n",
            "Requirement already satisfied: accelerate in /home/albahri.m/.local/lib/python3.12/site-packages (1.8.1)\n",
            "Requirement already satisfied: filelock in /courses/IE7500.202550/shared/conda_env_1/lib/python3.12/site-packages (from transformers) (3.18.0)\n",
            "Requirement already satisfied: huggingface-hub<1.0,>=0.30.0 in /courses/IE7500.202550/shared/conda_env_1/lib/python3.12/site-packages (from transformers) (0.32.2)\n",
            "Requirement already satisfied: numpy>=1.17 in /courses/IE7500.202550/shared/conda_env_1/lib/python3.12/site-packages (from transformers) (1.26.4)\n",
            "Requirement already satisfied: packaging>=20.0 in /courses/IE7500.202550/shared/conda_env_1/lib/python3.12/site-packages (from transformers) (24.2)\n",
            "Requirement already satisfied: pyyaml>=5.1 in /courses/IE7500.202550/shared/conda_env_1/lib/python3.12/site-packages (from transformers) (6.0.2)\n",
            "Requirement already satisfied: regex!=2019.12.17 in /courses/IE7500.202550/shared/conda_env_1/lib/python3.12/site-packages (from transformers) (2024.11.6)\n",
            "Requirement already satisfied: requests in /courses/IE7500.202550/shared/conda_env_1/lib/python3.12/site-packages (from transformers) (2.32.3)\n",
            "Requirement already satisfied: tokenizers<0.22,>=0.21 in /courses/IE7500.202550/shared/conda_env_1/lib/python3.12/site-packages (from transformers) (0.21.1)\n",
            "Requirement already satisfied: safetensors>=0.4.3 in /courses/IE7500.202550/shared/conda_env_1/lib/python3.12/site-packages (from transformers) (0.5.3)\n",
            "Requirement already satisfied: tqdm>=4.27 in /courses/IE7500.202550/shared/conda_env_1/lib/python3.12/site-packages (from transformers) (4.67.1)\n",
            "Requirement already satisfied: psutil in /courses/IE7500.202550/shared/conda_env_1/lib/python3.12/site-packages (from accelerate) (5.9.0)\n",
            "Requirement already satisfied: torch>=2.0.0 in /courses/IE7500.202550/shared/conda_env_1/lib/python3.12/site-packages (from accelerate) (2.5.1)\n",
            "Requirement already satisfied: fsspec>=2023.5.0 in /courses/IE7500.202550/shared/conda_env_1/lib/python3.12/site-packages (from huggingface-hub<1.0,>=0.30.0->transformers) (2025.3.0)\n",
            "Requirement already satisfied: typing-extensions>=3.7.4.3 in /courses/IE7500.202550/shared/conda_env_1/lib/python3.12/site-packages (from huggingface-hub<1.0,>=0.30.0->transformers) (4.13.2)\n",
            "Requirement already satisfied: hf-xet<2.0.0,>=1.1.2 in /courses/IE7500.202550/shared/conda_env_1/lib/python3.12/site-packages (from huggingface-hub<1.0,>=0.30.0->transformers) (1.1.2)\n",
            "Requirement already satisfied: setuptools in /courses/IE7500.202550/shared/conda_env_1/lib/python3.12/site-packages (from torch>=2.0.0->accelerate) (75.6.0)\n",
            "Requirement already satisfied: sympy==1.13.1 in /home/albahri.m/.local/lib/python3.12/site-packages (from torch>=2.0.0->accelerate) (1.13.1)\n",
            "Requirement already satisfied: networkx in /courses/IE7500.202550/shared/conda_env_1/lib/python3.12/site-packages (from torch>=2.0.0->accelerate) (3.4.2)\n",
            "Requirement already satisfied: jinja2 in /courses/IE7500.202550/shared/conda_env_1/lib/python3.12/site-packages (from torch>=2.0.0->accelerate) (3.1.6)\n",
            "Requirement already satisfied: mpmath<1.4,>=1.1.0 in /courses/IE7500.202550/shared/conda_env_1/lib/python3.12/site-packages (from sympy==1.13.1->torch>=2.0.0->accelerate) (1.3.0)\n",
            "Requirement already satisfied: charset-normalizer<4,>=2 in /courses/IE7500.202550/shared/conda_env_1/lib/python3.12/site-packages (from requests->transformers) (3.3.2)\n",
            "Requirement already satisfied: idna<4,>=2.5 in /courses/IE7500.202550/shared/conda_env_1/lib/python3.12/site-packages (from requests->transformers) (3.10)\n",
            "Requirement already satisfied: urllib3<3,>=1.21.1 in /courses/IE7500.202550/shared/conda_env_1/lib/python3.12/site-packages (from requests->transformers) (2.3.0)\n",
            "Requirement already satisfied: certifi>=2017.4.17 in /courses/IE7500.202550/shared/conda_env_1/lib/python3.12/site-packages (from requests->transformers) (2025.4.26)\n",
            "Requirement already satisfied: MarkupSafe>=2.0 in /courses/IE7500.202550/shared/conda_env_1/lib/python3.12/site-packages (from jinja2->torch>=2.0.0->accelerate) (3.0.2)\n"
          ]
        }
      ],
      "source": [
        "!pip install -U transformers accelerate"
      ]
    },
    {
      "cell_type": "code",
      "execution_count": null,
      "id": "893cda30-0da5-4b57-8675-a679b57907f9",
      "metadata": {
        "id": "893cda30-0da5-4b57-8675-a679b57907f9"
      },
      "outputs": [],
      "source": [
        "import os\n",
        "os._exit(0)"
      ]
    },
    {
      "cell_type": "code",
      "execution_count": null,
      "id": "81be92b4-234e-49c5-b7f8-fc66abd14b12",
      "metadata": {
        "id": "81be92b4-234e-49c5-b7f8-fc66abd14b12"
      },
      "outputs": [],
      "source": [
        "import sys\n",
        "sys.path.insert(0, \"/home/albahri.m/.local/lib/python3.12/site-packages\")"
      ]
    },
    {
      "cell_type": "code",
      "execution_count": null,
      "id": "1d771b6f-3e77-4422-8b84-51458303d962",
      "metadata": {
        "id": "1d771b6f-3e77-4422-8b84-51458303d962"
      },
      "outputs": [],
      "source": [
        "# Importing all libraries here\n",
        "\n",
        "import torch\n",
        "from transformers import DistilBertTokenizerFast, DistilBertForSequenceClassification\n",
        "from transformers import Trainer, TrainingArguments\n",
        "from datasets import Dataset\n",
        "import numpy as np\n",
        "from sklearn.metrics import accuracy_score, precision_recall_fscore_support\n",
        "import numpy as np\n",
        "import matplotlib.pyplot as plt\n",
        "import seaborn as sns\n",
        "import pandas as pd\n",
        "from sklearn.metrics import (\n",
        "    accuracy_score, precision_score, recall_score, f1_score,\n",
        "    confusion_matrix, ConfusionMatrixDisplay, roc_curve, auc )\n",
        "from datasets import Dataset\n",
        "from transformers import EarlyStoppingCallback\n",
        "import os\n",
        "os.environ[\"TOKENIZERS_PARALLELISM\"] = \"false\""
      ]
    },
    {
      "cell_type": "code",
      "execution_count": null,
      "id": "e512ac60-c2e4-4a18-a851-4a2eba716567",
      "metadata": {
        "id": "e512ac60-c2e4-4a18-a851-4a2eba716567"
      },
      "outputs": [],
      "source": [
        "# We fix the data type\n",
        "\n",
        "# Ensure 'target' is int and remap 4 → 1\n",
        "train_df['labels'] = train_df['target'].astype(int).replace({4: 1})\n",
        "val_df['labels'] = val_df['target'].astype(int).replace({4: 1})\n",
        "\n",
        "# Ensure text is string\n",
        "train_df['text'] = train_df['text'].astype(str)\n",
        "val_df['text'] = val_df['text'].astype(str)"
      ]
    },
    {
      "cell_type": "code",
      "execution_count": null,
      "id": "73b65adc-42d7-4a92-875e-ab9ca693e38a",
      "metadata": {
        "id": "73b65adc-42d7-4a92-875e-ab9ca693e38a"
      },
      "outputs": [],
      "source": [
        "# Next, we convert to Hugging Face Datasets format\n",
        "\n",
        "train_dataset = Dataset.from_pandas(train_df[['text', 'labels']])\n",
        "val_dataset = Dataset.from_pandas(val_df[['text', 'labels']])"
      ]
    },
    {
      "cell_type": "code",
      "execution_count": null,
      "id": "e064f575-7564-4f1e-90c2-275f74778413",
      "metadata": {
        "id": "e064f575-7564-4f1e-90c2-275f74778413",
        "outputId": "7a7129e9-3c8d-45b3-819e-9c407be7727a"
      },
      "outputs": [
        {
          "name": "stderr",
          "output_type": "stream",
          "text": [
            "Map: 100%|██████████| 936194/936194 [00:58<00:00, 15991.18 examples/s]\n",
            "Map: 100%|██████████| 200614/200614 [00:12<00:00, 16153.99 examples/s]\n"
          ]
        }
      ],
      "source": [
        "# Next, we perform tokenization with DistilBERT\n",
        "\n",
        "# Load pretrained tokenizer\n",
        "tokenizer = DistilBertTokenizerFast.from_pretrained('distilbert-base-uncased')\n",
        "\n",
        "# Tokenize datasets\n",
        "def tokenize_function(tokens):\n",
        "    return tokenizer(tokens[\"text\"], truncation=True, padding=\"max_length\", max_length=140) # this number is intentional because we already showed tweets max length\n",
        "\n",
        "train_tokenized = train_dataset.map(tokenize_function, batched=True)\n",
        "val_tokenized = val_dataset.map(tokenize_function, batched=True)"
      ]
    },
    {
      "cell_type": "code",
      "execution_count": null,
      "id": "a5bd8c27-e8ba-48ab-a0a0-e9a460cd9380",
      "metadata": {
        "id": "a5bd8c27-e8ba-48ab-a0a0-e9a460cd9380",
        "outputId": "8c95ea98-a91d-4bf8-f019-f030b5adb260"
      },
      "outputs": [
        {
          "name": "stderr",
          "output_type": "stream",
          "text": [
            "Some weights of DistilBertForSequenceClassification were not initialized from the model checkpoint at distilbert-base-uncased and are newly initialized: ['classifier.bias', 'classifier.weight', 'pre_classifier.bias', 'pre_classifier.weight']\n",
            "You should probably TRAIN this model on a down-stream task to be able to use it for predictions and inference.\n"
          ]
        }
      ],
      "source": [
        "# Next, we load DistilBERT with classification head\n",
        "BERTmodel = DistilBertForSequenceClassification.from_pretrained('distilbert-base-uncased', num_labels=2)"
      ]
    },
    {
      "cell_type": "code",
      "execution_count": null,
      "id": "f3dee63a-5863-40fa-8cb4-283c21c93158",
      "metadata": {
        "id": "f3dee63a-5863-40fa-8cb4-283c21c93158"
      },
      "outputs": [],
      "source": [
        "# After that, we define evaluation metrics\n",
        "\n",
        "def compute_metrics(eval_pred):\n",
        "    logits, labels = eval_pred\n",
        "    predictions = np.argmax(logits, axis=-1)\n",
        "    precision, recall, f1, _ = precision_recall_fscore_support(labels, predictions, average='binary')\n",
        "    acc = accuracy_score(labels, predictions)\n",
        "    return {\"accuracy\": acc, \"f1\": f1, \"precision\": precision, \"recall\": recall}"
      ]
    },
    {
      "cell_type": "code",
      "execution_count": null,
      "id": "7ad6fe20-d14d-4f80-8e55-0d8a24b04451",
      "metadata": {
        "id": "7ad6fe20-d14d-4f80-8e55-0d8a24b04451",
        "outputId": "0c0102e1-5b17-4197-9490-042d58c0fe78"
      },
      "outputs": [
        {
          "name": "stderr",
          "output_type": "stream",
          "text": [
            "/tmp/ipykernel_1349124/403454765.py:18: FutureWarning: `tokenizer` is deprecated and will be removed in version 5.0.0 for `Trainer.__init__`. Use `processing_class` instead.\n",
            "  BERTtrainer = Trainer(\n"
          ]
        }
      ],
      "source": [
        "# Next, we define training configuration\n",
        "\n",
        "training_args = TrainingArguments(\n",
        "    output_dir=\"./distilbert_fast_dev\",   # Model output directory\n",
        "    do_train=True,\n",
        "    do_eval=False,                        # Skip evaluation for speed\n",
        "    per_device_train_batch_size=32,       # Speed up with larger batch size\n",
        "    num_train_epochs=2,\n",
        "    learning_rate=1e-4,                   # Increased LR for faster convergence\n",
        "    weight_decay=0.01,\n",
        "    logging_steps=5000,                   # Less logging = less overhead\n",
        "    save_steps=1_000_000,                 # Effectively disables mid-training saves\n",
        "    save_total_limit=1,\n",
        "    report_to=[]                          # Disable logging integrations\n",
        ")\n",
        "\n",
        "# Setup Trainer\n",
        "BERTtrainer = Trainer(\n",
        "    model=BERTmodel,\n",
        "    args=training_args,\n",
        "    train_dataset=train_tokenized,        # You can use a subset to test faster\n",
        "    tokenizer=tokenizer\n",
        ")"
      ]
    },
    {
      "cell_type": "code",
      "execution_count": null,
      "id": "35b615b9-d430-4985-8481-12e197415347",
      "metadata": {
        "id": "35b615b9-d430-4985-8481-12e197415347",
        "outputId": "cdb34952-3a9d-47af-d626-0046c568d71c"
      },
      "outputs": [
        {
          "data": {
            "text/html": [
              "\n",
              "    <div>\n",
              "      \n",
              "      <progress value='58514' max='58514' style='width:300px; height:20px; vertical-align: middle;'></progress>\n",
              "      [58514/58514 3:42:55, Epoch 2/2]\n",
              "    </div>\n",
              "    <table border=\"1\" class=\"dataframe\">\n",
              "  <thead>\n",
              " <tr style=\"text-align: left;\">\n",
              "      <th>Step</th>\n",
              "      <th>Training Loss</th>\n",
              "    </tr>\n",
              "  </thead>\n",
              "  <tbody>\n",
              "    <tr>\n",
              "      <td>5000</td>\n",
              "      <td>0.455700</td>\n",
              "    </tr>\n",
              "    <tr>\n",
              "      <td>10000</td>\n",
              "      <td>0.455600</td>\n",
              "    </tr>\n",
              "    <tr>\n",
              "      <td>15000</td>\n",
              "      <td>0.454200</td>\n",
              "    </tr>\n",
              "    <tr>\n",
              "      <td>20000</td>\n",
              "      <td>0.444500</td>\n",
              "    </tr>\n",
              "    <tr>\n",
              "      <td>25000</td>\n",
              "      <td>0.444600</td>\n",
              "    </tr>\n",
              "    <tr>\n",
              "      <td>30000</td>\n",
              "      <td>0.434700</td>\n",
              "    </tr>\n",
              "    <tr>\n",
              "      <td>35000</td>\n",
              "      <td>0.414200</td>\n",
              "    </tr>\n",
              "    <tr>\n",
              "      <td>40000</td>\n",
              "      <td>0.406400</td>\n",
              "    </tr>\n",
              "    <tr>\n",
              "      <td>45000</td>\n",
              "      <td>0.400600</td>\n",
              "    </tr>\n",
              "    <tr>\n",
              "      <td>50000</td>\n",
              "      <td>0.396500</td>\n",
              "    </tr>\n",
              "    <tr>\n",
              "      <td>55000</td>\n",
              "      <td>0.396000</td>\n",
              "    </tr>\n",
              "  </tbody>\n",
              "</table><p>"
            ],
            "text/plain": [
              "<IPython.core.display.HTML object>"
            ]
          },
          "metadata": {},
          "output_type": "display_data"
        },
        {
          "data": {
            "text/html": [],
            "text/plain": [
              "<IPython.core.display.HTML object>"
            ]
          },
          "metadata": {},
          "output_type": "display_data"
        },
        {
          "name": "stdout",
          "output_type": "stream",
          "text": [
            "\n",
            "--- Validation Performance ---\n",
            "Accuracy:  0.8149\n",
            "Precision: 0.8318\n",
            "Recall:    0.8654\n",
            "F1 Score:  0.8483\n"
          ]
        },
        {
          "data": {
            "image/png": "[encoded data removed]",
            "text/plain": [
              "<Figure size 640x480 with 2 Axes>"
            ]
          },
          "metadata": {},
          "output_type": "display_data"
        },
        {
          "name": "stdout",
          "output_type": "stream",
          "text": [
            "Final model weights saved to: final_distilbert_sentiment_model.pt\n"
          ]
        }
      ],
      "source": [
        "# Now, we train our model\n",
        "\n",
        "# 1. Train the model (1 epoch, no eval during training for speed)\n",
        "history = BERTtrainer.train()\n",
        "\n",
        "# 2. Evaluate on validation set\n",
        "predictions = BERTtrainer.predict(val_tokenized)\n",
        "y_true = predictions.label_ids\n",
        "y_logits = predictions.predictions\n",
        "y_pred = np.argmax(y_logits, axis=1)\n",
        "y_probs = y_logits[:, 1]  # For ROC curve\n",
        "\n",
        "# 3. Print validation metrics\n",
        "acc = accuracy_score(y_true, y_pred)\n",
        "prec = precision_score(y_true, y_pred)\n",
        "rec = recall_score(y_true, y_pred)\n",
        "f1 = f1_score(y_true, y_pred)\n",
        "\n",
        "print(\"\\n--- Validation Performance ---\")\n",
        "print(f\"Accuracy:  {acc:.4f}\")\n",
        "print(f\"Precision: {prec:.4f}\")\n",
        "print(f\"Recall:    {rec:.4f}\")\n",
        "print(f\"F1 Score:  {f1:.4f}\")\n",
        "\n",
        "# 4. Confusion Matrix (only plot retained for speed)\n",
        "cm = confusion_matrix(y_true, y_pred)\n",
        "ConfusionMatrixDisplay(cm, display_labels=[\"Negative\", \"Positive\"]).plot(cmap=\"Blues\")\n",
        "plt.title(\"Validation Confusion Matrix\")\n",
        "plt.grid(False)\n",
        "plt.show()\n",
        "\n",
        "# 5. Save final model weights only\n",
        "final_model_path = \"final_distilbert_sentiment_model.pt\"\n",
        "torch.save(BERTmodel.state_dict(), final_model_path)\n",
        "print(f\"Final model weights saved to: {final_model_path}\")\n"
      ]
    },
    {
      "cell_type": "code",
      "execution_count": null,
      "id": "21827938-c09d-4fc9-ab90-118c407f2b75",
      "metadata": {
        "id": "21827938-c09d-4fc9-ab90-118c407f2b75"
      },
      "outputs": [],
      "source": []
    },
    {
      "cell_type": "code",
      "execution_count": null,
      "id": "93628e70-834a-4b86-ba5f-cc2e1aec2415",
      "metadata": {
        "id": "93628e70-834a-4b86-ba5f-cc2e1aec2415"
      },
      "outputs": [],
      "source": []
    },
    {
      "cell_type": "code",
      "execution_count": null,
      "id": "1eb100ba-e4cc-4834-80cb-16975a646912",
      "metadata": {
        "id": "1eb100ba-e4cc-4834-80cb-16975a646912"
      },
      "outputs": [],
      "source": []
    },
    {
      "cell_type": "markdown",
      "id": "a8a4741c-4ee7-4cdc-896c-1cde34dd2576",
      "metadata": {
        "id": "a8a4741c-4ee7-4cdc-896c-1cde34dd2576"
      },
      "source": [
        "\n",
        "<div style=\"background-color:#e6f2ff; border-left:8px solid #0059b3; padding:20px; margin:20px 0;\">\n",
        "  <h2 style=\"color:#003366;\"><strong>4.4 Model Comparison and Selection </strong></h2>\n",
        "  <p style=\"color:#333333;\">Evaluate using accuracy, precision, recall, F1-score, confusion matrix, and ROC curve.</p>\n",
        "</div>\n"
      ]
    },
    {
      "cell_type": "code",
      "execution_count": null,
      "id": "2aebebeb-b375-444f-819d-8533ddab8b94",
      "metadata": {
        "id": "2aebebeb-b375-444f-819d-8533ddab8b94"
      },
      "outputs": [],
      "source": []
    },
    {
      "cell_type": "code",
      "execution_count": null,
      "id": "4b3f91c4-a95f-4f73-bcb6-90cf39f812ac",
      "metadata": {
        "id": "4b3f91c4-a95f-4f73-bcb6-90cf39f812ac"
      },
      "outputs": [],
      "source": []
    },
    {
      "cell_type": "code",
      "execution_count": null,
      "id": "298bcfc6-2aca-42a1-9c0c-3ed858a9dfd3",
      "metadata": {
        "id": "298bcfc6-2aca-42a1-9c0c-3ed858a9dfd3"
      },
      "outputs": [],
      "source": []
    },
    {
      "cell_type": "markdown",
      "id": "YxrYhhreTQRJ",
      "metadata": {
        "id": "YxrYhhreTQRJ"
      },
      "source": [
        "<div style=\"background-color:#e6f2ff; border-left:8px solid #0059b3; padding:20px; margin:20px 0;\">\n",
        "  <h2 style=\"color:#003366;\"><strong>4.5 Final Model Training </strong></h2>\n",
        "  <p style=\"color:#333333;\">Evaluate using accuracy, precision, recall, F1-score, confusion matrix, and ROC curve.</p>\n",
        "</div>\n"
      ]
    },
    {
      "cell_type": "code",
      "execution_count": null,
      "id": "GnmHjnceTYSQ",
      "metadata": {
        "id": "GnmHjnceTYSQ"
      },
      "outputs": [],
      "source": []
    },
    {
      "cell_type": "code",
      "execution_count": null,
      "id": "Xf5HPKn_TYLP",
      "metadata": {
        "id": "Xf5HPKn_TYLP"
      },
      "outputs": [],
      "source": []
    },
    {
      "cell_type": "code",
      "execution_count": null,
      "id": "2Y-5wjoQTYEF",
      "metadata": {
        "id": "2Y-5wjoQTYEF"
      },
      "outputs": [],
      "source": []
    },
    {
      "cell_type": "markdown",
      "id": "DN003lpBTXTh",
      "metadata": {
        "id": "DN003lpBTXTh"
      },
      "source": [
        "<div style=\"background-color:#e6f2ff; border-left:8px solid #0059b3; padding:20px; margin:20px 0;\">\n",
        "  <h2 style=\"color:#003366;\"><strong>5. Model Evaluation </strong></h2>\n",
        "  <p style=\"color:#333333;\">Evaluate using accuracy, precision, recall, F1-score, confusion matrix, and ROC curve.</p>\n",
        "</div>\n"
      ]
    },
    {
      "cell_type": "code",
      "execution_count": null,
      "id": "GWLWudbFTdrp",
      "metadata": {
        "id": "GWLWudbFTdrp"
      },
      "outputs": [],
      "source": []
    },
    {
      "cell_type": "code",
      "execution_count": null,
      "id": "xkSi1djeTdkB",
      "metadata": {
        "id": "xkSi1djeTdkB"
      },
      "outputs": [],
      "source": []
    },
    {
      "cell_type": "code",
      "execution_count": null,
      "id": "weyusEaSTc5t",
      "metadata": {
        "id": "weyusEaSTc5t"
      },
      "outputs": [],
      "source": []
    },
    {
      "cell_type": "markdown",
      "id": "6b76a5fd-bdee-4cf4-9b77-e38b9d0091c2",
      "metadata": {
        "id": "6b76a5fd-bdee-4cf4-9b77-e38b9d0091c2"
      },
      "source": [
        "\n",
        "<div style=\"background-color:#e6f2ff; border-left:8px solid #0059b3; padding:20px; margin:20px 0;\">\n",
        "  <h2 style=\"color:#003366;\"><strong>6. Conclusion</strong></h2>\n",
        "  <p style=\"color:#333333;\">Summarize findings and insights, discuss trade-offs, and generalization potential.</p>\n",
        "</div>\n"
      ]
    },
    {
      "cell_type": "code",
      "execution_count": null,
      "id": "bf77c9af-e497-468d-9681-62b28983813c",
      "metadata": {
        "id": "bf77c9af-e497-468d-9681-62b28983813c"
      },
      "outputs": [],
      "source": []
    },
    {
      "cell_type": "code",
      "execution_count": null,
      "id": "1e59342d-fc85-4844-a623-2120b5e84c40",
      "metadata": {
        "id": "1e59342d-fc85-4844-a623-2120b5e84c40"
      },
      "outputs": [],
      "source": []
    },
    {
      "cell_type": "code",
      "execution_count": null,
      "id": "90202a63-50c8-4fbd-b577-95a5bd847aa9",
      "metadata": {
        "id": "90202a63-50c8-4fbd-b577-95a5bd847aa9"
      },
      "outputs": [],
      "source": []
    },
    {
      "cell_type": "markdown",
      "id": "1cf1820a-6795-41de-9869-46d93fb25b2f",
      "metadata": {
        "id": "1cf1820a-6795-41de-9869-46d93fb25b2f"
      },
      "source": [
        "\n",
        "<div style=\"background-color:#e6f2ff; border-left:8px solid #0059b3; padding:20px; margin:20px 0;\">\n",
        "  <h2 style=\"color:#003366;\"><strong>9. Future Work</strong></h2>\n",
        "  <p style=\"color:#333333;\">Suggest future extensions like streaming integration or domain adaptation.</p>\n",
        "</div>\n"
      ]
    },
    {
      "cell_type": "code",
      "execution_count": null,
      "id": "0f17894b-f59b-49f2-a707-f80148fb804f",
      "metadata": {
        "id": "0f17894b-f59b-49f2-a707-f80148fb804f"
      },
      "outputs": [],
      "source": []
    },
    {
      "cell_type": "code",
      "execution_count": null,
      "id": "59b62c59-2b2b-47d0-9071-e3c5d8920676",
      "metadata": {
        "id": "59b62c59-2b2b-47d0-9071-e3c5d8920676"
      },
      "outputs": [],
      "source": []
    }
  ],
  "metadata": {
    "colab": {
      "provenance": []
    },
    "kernelspec": {
      "display_name": "Python 3 (ipykernel)",
      "language": "python",
      "name": "python3"
    },
    "language_info": {
      "codemirror_mode": {
        "name": "ipython",
        "version": 3
      },
      "file_extension": ".py",
      "mimetype": "text/x-python",
      "name": "python",
      "nbconvert_exporter": "python",
      "pygments_lexer": "ipython3",
      "version": "3.12.4"
    }
  },
  "nbformat": 4,
  "nbformat_minor": 5
}